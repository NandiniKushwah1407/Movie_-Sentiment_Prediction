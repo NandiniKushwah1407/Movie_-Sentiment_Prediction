{
 "cells": [
  {
   "cell_type": "code",
   "execution_count": 1,
   "id": "8772a9d9",
   "metadata": {
    "_cell_guid": "b1076dfc-b9ad-4769-8c92-a6c4dae69d19",
    "_uuid": "8f2839f25d086af736a60e9eeb907d3b93b6e0e5",
    "execution": {
     "iopub.execute_input": "2023-08-13T14:03:53.845879Z",
     "iopub.status.busy": "2023-08-13T14:03:53.845409Z",
     "iopub.status.idle": "2023-08-13T14:03:53.862544Z",
     "shell.execute_reply": "2023-08-13T14:03:53.860924Z"
    },
    "papermill": {
     "duration": 0.044741,
     "end_time": "2023-08-13T14:03:53.864899",
     "exception": false,
     "start_time": "2023-08-13T14:03:53.820158",
     "status": "completed"
    },
    "tags": []
   },
   "outputs": [
    {
     "name": "stdout",
     "output_type": "stream",
     "text": [
      "/kaggle/input/sentiment-prediction-on-movie-reviews/movies.csv\n",
      "/kaggle/input/sentiment-prediction-on-movie-reviews/sample.csv\n",
      "/kaggle/input/sentiment-prediction-on-movie-reviews/train.csv\n",
      "/kaggle/input/sentiment-prediction-on-movie-reviews/test.csv\n"
     ]
    }
   ],
   "source": [
    "# This Python 3 environment comes with many helpful analytics libraries installed\n",
    "# It is defined by the kaggle/python Docker image: https://github.com/kaggle/docker-python\n",
    "# For example, here's several helpful packages to load\n",
    "\n",
    "import numpy as np # linear algebra\n",
    "import pandas as pd # data processing, CSV file I/O (e.g. pd.read_csv)\n",
    "\n",
    "# Input data files are available in the read-only \"../input/\" directory\n",
    "# For example, running this (by clicking run or pressing Shift+Enter) will list all files under the input directory\n",
    "\n",
    "import os\n",
    "for dirname, _, filenames in os.walk('/kaggle/input'):\n",
    "    for filename in filenames:\n",
    "        print(os.path.join(dirname, filename))\n",
    "\n",
    "# You can write up to 20GB to the current directory (/kaggle/working/) that gets preserved as output when you create a version using \"Save & Run All\" \n",
    "# You can also write temporary files to /kaggle/temp/, but they won't be saved outside of the current session"
   ]
  },
  {
   "cell_type": "markdown",
   "id": "3a9aa45f",
   "metadata": {
    "papermill": {
     "duration": 0.021766,
     "end_time": "2023-08-13T14:03:53.909107",
     "exception": false,
     "start_time": "2023-08-13T14:03:53.887341",
     "status": "completed"
    },
    "tags": []
   },
   "source": [
    "# Sentiment Prediction on Movie Reviews\n",
    "\n",
    "In this Machine Learning Project, we will be working on sentiment prediction using movie reviews data. We have three CSV files: `train.csv`, `movies.csv`, and `test.csv`, containing the training dataset, movie information, and testing dataset respectively."
   ]
  },
  {
   "cell_type": "markdown",
   "id": "c841f767",
   "metadata": {
    "papermill": {
     "duration": 0.021663,
     "end_time": "2023-08-13T14:03:53.953575",
     "exception": false,
     "start_time": "2023-08-13T14:03:53.931912",
     "status": "completed"
    },
    "tags": []
   },
   "source": [
    "# **1. Data Loading**"
   ]
  },
  {
   "cell_type": "code",
   "execution_count": 2,
   "id": "43db42ac",
   "metadata": {
    "execution": {
     "iopub.execute_input": "2023-08-13T14:03:54.011995Z",
     "iopub.status.busy": "2023-08-13T14:03:54.011552Z",
     "iopub.status.idle": "2023-08-13T14:03:56.691055Z",
     "shell.execute_reply": "2023-08-13T14:03:56.689712Z"
    },
    "papermill": {
     "duration": 2.717773,
     "end_time": "2023-08-13T14:03:56.694244",
     "exception": false,
     "start_time": "2023-08-13T14:03:53.976471",
     "status": "completed"
    },
    "tags": []
   },
   "outputs": [],
   "source": [
    "train = pd.read_csv('/kaggle/input/sentiment-prediction-on-movie-reviews/train.csv')\n",
    "movie = pd.read_csv('/kaggle/input/sentiment-prediction-on-movie-reviews/movies.csv')\n",
    "test = pd.read_csv('/kaggle/input/sentiment-prediction-on-movie-reviews/test.csv')"
   ]
  },
  {
   "cell_type": "markdown",
   "id": "ebbe6d00",
   "metadata": {
    "papermill": {
     "duration": 0.023827,
     "end_time": "2023-08-13T14:03:56.742465",
     "exception": false,
     "start_time": "2023-08-13T14:03:56.718638",
     "status": "completed"
    },
    "tags": []
   },
   "source": [
    "### 1.1 Check data samples\n",
    "Let's look at a few data samples with `head()` method."
   ]
  },
  {
   "cell_type": "code",
   "execution_count": 3,
   "id": "9d1c17be",
   "metadata": {
    "execution": {
     "iopub.execute_input": "2023-08-13T14:03:56.790807Z",
     "iopub.status.busy": "2023-08-13T14:03:56.790430Z",
     "iopub.status.idle": "2023-08-13T14:03:56.824021Z",
     "shell.execute_reply": "2023-08-13T14:03:56.823155Z"
    },
    "papermill": {
     "duration": 0.060737,
     "end_time": "2023-08-13T14:03:56.826718",
     "exception": false,
     "start_time": "2023-08-13T14:03:56.765981",
     "status": "completed"
    },
    "tags": []
   },
   "outputs": [
    {
     "data": {
      "text/html": [
       "<div>\n",
       "<style scoped>\n",
       "    .dataframe tbody tr th:only-of-type {\n",
       "        vertical-align: middle;\n",
       "    }\n",
       "\n",
       "    .dataframe tbody tr th {\n",
       "        vertical-align: top;\n",
       "    }\n",
       "\n",
       "    .dataframe thead th {\n",
       "        text-align: right;\n",
       "    }\n",
       "</style>\n",
       "<table border=\"1\" class=\"dataframe\">\n",
       "  <thead>\n",
       "    <tr style=\"text-align: right;\">\n",
       "      <th></th>\n",
       "      <th>movieid</th>\n",
       "      <th>reviewerName</th>\n",
       "      <th>isFrequentReviewer</th>\n",
       "      <th>reviewText</th>\n",
       "      <th>sentiment</th>\n",
       "    </tr>\n",
       "  </thead>\n",
       "  <tbody>\n",
       "    <tr>\n",
       "      <th>0</th>\n",
       "      <td>marvelous_pirate</td>\n",
       "      <td>Benjamin Henry</td>\n",
       "      <td>False</td>\n",
       "      <td>Henry Selick’s first movie since 2009’s Corali...</td>\n",
       "      <td>POSITIVE</td>\n",
       "    </tr>\n",
       "    <tr>\n",
       "      <th>1</th>\n",
       "      <td>tony_montana_frodo_baggins_v_rocky_balboa</td>\n",
       "      <td>Felicia Lopez</td>\n",
       "      <td>False</td>\n",
       "      <td>With a cast that reads like the Vogue Oscar pa...</td>\n",
       "      <td>NEGATIVE</td>\n",
       "    </tr>\n",
       "    <tr>\n",
       "      <th>2</th>\n",
       "      <td>darth_vader_katniss_everdeen_sorcerer_donnie_d...</td>\n",
       "      <td>Mr. Charles Burgess</td>\n",
       "      <td>True</td>\n",
       "      <td>Creed II does not give us anything but another...</td>\n",
       "      <td>POSITIVE</td>\n",
       "    </tr>\n",
       "    <tr>\n",
       "      <th>3</th>\n",
       "      <td>lara_croft_glimmer</td>\n",
       "      <td>Ryan Barrett</td>\n",
       "      <td>False</td>\n",
       "      <td>I know what you're thinking, but this is no Li...</td>\n",
       "      <td>POSITIVE</td>\n",
       "    </tr>\n",
       "    <tr>\n",
       "      <th>4</th>\n",
       "      <td>jason_bourne_surreal_the_terminator_indiana_jones</td>\n",
       "      <td>Alexander Glover</td>\n",
       "      <td>False</td>\n",
       "      <td>Director Fernando Meirelles tells the story wi...</td>\n",
       "      <td>POSITIVE</td>\n",
       "    </tr>\n",
       "  </tbody>\n",
       "</table>\n",
       "</div>"
      ],
      "text/plain": [
       "                                             movieid         reviewerName  \\\n",
       "0                                   marvelous_pirate       Benjamin Henry   \n",
       "1          tony_montana_frodo_baggins_v_rocky_balboa        Felicia Lopez   \n",
       "2  darth_vader_katniss_everdeen_sorcerer_donnie_d...  Mr. Charles Burgess   \n",
       "3                                 lara_croft_glimmer         Ryan Barrett   \n",
       "4  jason_bourne_surreal_the_terminator_indiana_jones     Alexander Glover   \n",
       "\n",
       "   isFrequentReviewer                                         reviewText  \\\n",
       "0               False  Henry Selick’s first movie since 2009’s Corali...   \n",
       "1               False  With a cast that reads like the Vogue Oscar pa...   \n",
       "2                True  Creed II does not give us anything but another...   \n",
       "3               False  I know what you're thinking, but this is no Li...   \n",
       "4               False  Director Fernando Meirelles tells the story wi...   \n",
       "\n",
       "  sentiment  \n",
       "0  POSITIVE  \n",
       "1  NEGATIVE  \n",
       "2  POSITIVE  \n",
       "3  POSITIVE  \n",
       "4  POSITIVE  "
      ]
     },
     "execution_count": 3,
     "metadata": {},
     "output_type": "execute_result"
    }
   ],
   "source": [
    "train.head()"
   ]
  },
  {
   "cell_type": "markdown",
   "id": "7b51a475",
   "metadata": {
    "papermill": {
     "duration": 0.021754,
     "end_time": "2023-08-13T14:03:56.871049",
     "exception": false,
     "start_time": "2023-08-13T14:03:56.849295",
     "status": "completed"
    },
    "tags": []
   },
   "source": [
    "`train.csv` - the training set containing the review sentiment along with other features.\n",
    "\n",
    "* **movieid:** This column represents the unique identifier for each movie. It is used to link the movie information with the corresponding data.\n",
    "\n",
    "* **reviewerName:** This column contains the name or identifier of the person who wrote the review.\n",
    "\n",
    "* **isFrequentReviewer:** This column indicates whether the reviewer is a frequent reviewer or not. It could be a True or False, where True indicate that the reviewer is a frequent contributor, and False indicate is not a frequent contributor.\n",
    "\n",
    "* **reviewText:** This column contains the actual text of the movie review written by the reviewer. \n",
    "\n",
    "* **sentiment:** This column represents the sentiment associated with the review. It is the target variable that we want to predict in our sentiment analysis task. Where sentiment are classified into two categoriesposit POSITIVE and NEGATIVE."
   ]
  },
  {
   "cell_type": "code",
   "execution_count": 4,
   "id": "c60ebccc",
   "metadata": {
    "execution": {
     "iopub.execute_input": "2023-08-13T14:03:56.917893Z",
     "iopub.status.busy": "2023-08-13T14:03:56.917431Z",
     "iopub.status.idle": "2023-08-13T14:03:56.942412Z",
     "shell.execute_reply": "2023-08-13T14:03:56.940986Z"
    },
    "papermill": {
     "duration": 0.051221,
     "end_time": "2023-08-13T14:03:56.944861",
     "exception": false,
     "start_time": "2023-08-13T14:03:56.893640",
     "status": "completed"
    },
    "tags": []
   },
   "outputs": [
    {
     "data": {
      "text/html": [
       "<div>\n",
       "<style scoped>\n",
       "    .dataframe tbody tr th:only-of-type {\n",
       "        vertical-align: middle;\n",
       "    }\n",
       "\n",
       "    .dataframe tbody tr th {\n",
       "        vertical-align: top;\n",
       "    }\n",
       "\n",
       "    .dataframe thead th {\n",
       "        text-align: right;\n",
       "    }\n",
       "</style>\n",
       "<table border=\"1\" class=\"dataframe\">\n",
       "  <thead>\n",
       "    <tr style=\"text-align: right;\">\n",
       "      <th></th>\n",
       "      <th>movieid</th>\n",
       "      <th>title</th>\n",
       "      <th>audienceScore</th>\n",
       "      <th>rating</th>\n",
       "      <th>ratingContents</th>\n",
       "      <th>releaseDateTheaters</th>\n",
       "      <th>releaseDateStreaming</th>\n",
       "      <th>runtimeMinutes</th>\n",
       "      <th>genre</th>\n",
       "      <th>originalLanguage</th>\n",
       "      <th>director</th>\n",
       "      <th>boxOffice</th>\n",
       "      <th>distributor</th>\n",
       "      <th>soundType</th>\n",
       "    </tr>\n",
       "  </thead>\n",
       "  <tbody>\n",
       "    <tr>\n",
       "      <th>0</th>\n",
       "      <td>han_solo_heroic_myth_wonder_woman</td>\n",
       "      <td>Han Solo Heroic Myth Wonder Woman</td>\n",
       "      <td>50.0</td>\n",
       "      <td>NaN</td>\n",
       "      <td>NaN</td>\n",
       "      <td>NaN</td>\n",
       "      <td>2018-08-25</td>\n",
       "      <td>75.0</td>\n",
       "      <td>Comedy, Horror, Sci-fi</td>\n",
       "      <td>English</td>\n",
       "      <td>Claude Nicolet</td>\n",
       "      <td>NaN</td>\n",
       "      <td>NaN</td>\n",
       "      <td>NaN</td>\n",
       "    </tr>\n",
       "    <tr>\n",
       "      <th>1</th>\n",
       "      <td>voyage_tyler_durden_han_solo_stardust</td>\n",
       "      <td>Voyage Tyler Durden Han Solo Stardust</td>\n",
       "      <td>NaN</td>\n",
       "      <td>NaN</td>\n",
       "      <td>NaN</td>\n",
       "      <td>NaN</td>\n",
       "      <td>2020-02-11</td>\n",
       "      <td>114.0</td>\n",
       "      <td>Drama</td>\n",
       "      <td>English</td>\n",
       "      <td>Nathan Haack</td>\n",
       "      <td>NaN</td>\n",
       "      <td>NaN</td>\n",
       "      <td>NaN</td>\n",
       "    </tr>\n",
       "    <tr>\n",
       "      <th>2</th>\n",
       "      <td>norman_bates_ferris_bueller_hermione_granger_v...</td>\n",
       "      <td>Norman Bates Ferris Bueller Hermione Granger V...</td>\n",
       "      <td>43.0</td>\n",
       "      <td>NaN</td>\n",
       "      <td>NaN</td>\n",
       "      <td>NaN</td>\n",
       "      <td>NaN</td>\n",
       "      <td>120.0</td>\n",
       "      <td>Drama</td>\n",
       "      <td>Korean</td>\n",
       "      <td>Theresa Smith</td>\n",
       "      <td>NaN</td>\n",
       "      <td>NaN</td>\n",
       "      <td>NaN</td>\n",
       "    </tr>\n",
       "    <tr>\n",
       "      <th>3</th>\n",
       "      <td>elegant_hermione_granger</td>\n",
       "      <td>Elegant Hermione Granger</td>\n",
       "      <td>60.0</td>\n",
       "      <td>NaN</td>\n",
       "      <td>NaN</td>\n",
       "      <td>NaN</td>\n",
       "      <td>2020-10-23</td>\n",
       "      <td>90.0</td>\n",
       "      <td>Action, Mystery &amp; thriller</td>\n",
       "      <td>English</td>\n",
       "      <td>Donald Lewis</td>\n",
       "      <td>NaN</td>\n",
       "      <td>NaN</td>\n",
       "      <td>NaN</td>\n",
       "    </tr>\n",
       "    <tr>\n",
       "      <th>4</th>\n",
       "      <td>adventure_rocky_balboa</td>\n",
       "      <td>Adventure Rocky Balboa</td>\n",
       "      <td>70.0</td>\n",
       "      <td>NaN</td>\n",
       "      <td>NaN</td>\n",
       "      <td>NaN</td>\n",
       "      <td>2017-03-27</td>\n",
       "      <td>80.0</td>\n",
       "      <td>Fantasy, Adventure, Animation</td>\n",
       "      <td>English</td>\n",
       "      <td>Howard Simms</td>\n",
       "      <td>NaN</td>\n",
       "      <td>NaN</td>\n",
       "      <td>NaN</td>\n",
       "    </tr>\n",
       "  </tbody>\n",
       "</table>\n",
       "</div>"
      ],
      "text/plain": [
       "                                             movieid  \\\n",
       "0                  han_solo_heroic_myth_wonder_woman   \n",
       "1              voyage_tyler_durden_han_solo_stardust   \n",
       "2  norman_bates_ferris_bueller_hermione_granger_v...   \n",
       "3                           elegant_hermione_granger   \n",
       "4                             adventure_rocky_balboa   \n",
       "\n",
       "                                               title  audienceScore rating  \\\n",
       "0                  Han Solo Heroic Myth Wonder Woman           50.0    NaN   \n",
       "1              Voyage Tyler Durden Han Solo Stardust            NaN    NaN   \n",
       "2  Norman Bates Ferris Bueller Hermione Granger V...           43.0    NaN   \n",
       "3                           Elegant Hermione Granger           60.0    NaN   \n",
       "4                             Adventure Rocky Balboa           70.0    NaN   \n",
       "\n",
       "  ratingContents releaseDateTheaters releaseDateStreaming  runtimeMinutes  \\\n",
       "0            NaN                 NaN           2018-08-25            75.0   \n",
       "1            NaN                 NaN           2020-02-11           114.0   \n",
       "2            NaN                 NaN                  NaN           120.0   \n",
       "3            NaN                 NaN           2020-10-23            90.0   \n",
       "4            NaN                 NaN           2017-03-27            80.0   \n",
       "\n",
       "                           genre originalLanguage        director boxOffice  \\\n",
       "0         Comedy, Horror, Sci-fi          English  Claude Nicolet       NaN   \n",
       "1                          Drama          English    Nathan Haack       NaN   \n",
       "2                          Drama           Korean   Theresa Smith       NaN   \n",
       "3     Action, Mystery & thriller          English    Donald Lewis       NaN   \n",
       "4  Fantasy, Adventure, Animation          English    Howard Simms       NaN   \n",
       "\n",
       "  distributor soundType  \n",
       "0         NaN       NaN  \n",
       "1         NaN       NaN  \n",
       "2         NaN       NaN  \n",
       "3         NaN       NaN  \n",
       "4         NaN       NaN  "
      ]
     },
     "execution_count": 4,
     "metadata": {},
     "output_type": "execute_result"
    }
   ],
   "source": [
    "movie.head()"
   ]
  },
  {
   "cell_type": "markdown",
   "id": "7052865c",
   "metadata": {
    "papermill": {
     "duration": 0.022363,
     "end_time": "2023-08-13T14:03:56.989969",
     "exception": false,
     "start_time": "2023-08-13T14:03:56.967606",
     "status": "completed"
    },
    "tags": []
   },
   "source": [
    "`movies.csv` - the file with metadata on movies.\n",
    "\n",
    "* **movieid:** This column represents the unique identifier for each movie. It is used to link movie information with other data. This same column that we found in `train` dataset.\n",
    "\n",
    "* **title:** This column contains the title of the movie.\n",
    "\n",
    "* **audienceScore:** This column represents the audience score for the movie. It is a numerical value.\n",
    "\n",
    "* **rating:** This column contains the rating assigned to the movie.\n",
    "\n",
    "* **ratingContents:** This column might contain additional information about the content that led to the given rating. \n",
    "\n",
    "* **releaseDateTheaters:** This column indicates the date when the movie was released in theaters.\n",
    "\n",
    "* **releaseDateStreaming:** This column indicates the date when the movie was released for streaming or online viewing.\n",
    "\n",
    "* **runtimeMinutes:** This column specifies the duration of the movie in minutes.\n",
    "\n",
    "* **genre:** This column contains the genre or genres to which the movie belongs. Genres describe the type of content the movie falls into, such as Action, Drama, Comedy, etc.\n",
    "\n",
    "* **originalLanguage:** This column represents the original language of the movie.\n",
    "\n",
    "* **director:** This column contains the name of the director who directed the movie.\n",
    "\n",
    "* **boxOffice:** This column contain information about the movie's box office earnings or revenue.\n",
    "\n",
    "* **distributor:** This column specifies the distributor or production company responsible for distributing the movie.\n",
    "\n",
    "* **soundType:** This column describe the type of sound used in the movie.\n"
   ]
  },
  {
   "cell_type": "code",
   "execution_count": 5,
   "id": "155366dd",
   "metadata": {
    "execution": {
     "iopub.execute_input": "2023-08-13T14:03:57.039523Z",
     "iopub.status.busy": "2023-08-13T14:03:57.038072Z",
     "iopub.status.idle": "2023-08-13T14:03:57.051922Z",
     "shell.execute_reply": "2023-08-13T14:03:57.050868Z"
    },
    "papermill": {
     "duration": 0.040644,
     "end_time": "2023-08-13T14:03:57.054298",
     "exception": false,
     "start_time": "2023-08-13T14:03:57.013654",
     "status": "completed"
    },
    "tags": []
   },
   "outputs": [
    {
     "data": {
      "text/html": [
       "<div>\n",
       "<style scoped>\n",
       "    .dataframe tbody tr th:only-of-type {\n",
       "        vertical-align: middle;\n",
       "    }\n",
       "\n",
       "    .dataframe tbody tr th {\n",
       "        vertical-align: top;\n",
       "    }\n",
       "\n",
       "    .dataframe thead th {\n",
       "        text-align: right;\n",
       "    }\n",
       "</style>\n",
       "<table border=\"1\" class=\"dataframe\">\n",
       "  <thead>\n",
       "    <tr style=\"text-align: right;\">\n",
       "      <th></th>\n",
       "      <th>movieid</th>\n",
       "      <th>reviewerName</th>\n",
       "      <th>isTopCritic</th>\n",
       "      <th>reviewText</th>\n",
       "    </tr>\n",
       "  </thead>\n",
       "  <tbody>\n",
       "    <tr>\n",
       "      <th>0</th>\n",
       "      <td>legend_marty_mcfly_oracle</td>\n",
       "      <td>John Kim</td>\n",
       "      <td>False</td>\n",
       "      <td>Green slowly cranks up the dread with style an...</td>\n",
       "    </tr>\n",
       "    <tr>\n",
       "      <th>1</th>\n",
       "      <td>terminator_katniss_everdeen_glimmer</td>\n",
       "      <td>Brian Chaney</td>\n",
       "      <td>False</td>\n",
       "      <td>Philip Noyce's direction is elegant and unforc...</td>\n",
       "    </tr>\n",
       "    <tr>\n",
       "      <th>2</th>\n",
       "      <td>james_bond_labyrinth_gollum</td>\n",
       "      <td>Danielle Parker</td>\n",
       "      <td>False</td>\n",
       "      <td>It wouldn't do to say what path Maria ultimate...</td>\n",
       "    </tr>\n",
       "    <tr>\n",
       "      <th>3</th>\n",
       "      <td>v_quest_han_solo_wondrous</td>\n",
       "      <td>Brittany Lane</td>\n",
       "      <td>False</td>\n",
       "      <td>Pig is not exactly the arthouse John Wick that...</td>\n",
       "    </tr>\n",
       "    <tr>\n",
       "      <th>4</th>\n",
       "      <td>enigma_hulk_surreal_starlight</td>\n",
       "      <td>Justin Willis</td>\n",
       "      <td>False</td>\n",
       "      <td>An imaginative no-budget musical of sorts abou...</td>\n",
       "    </tr>\n",
       "  </tbody>\n",
       "</table>\n",
       "</div>"
      ],
      "text/plain": [
       "                               movieid     reviewerName  isTopCritic  \\\n",
       "0            legend_marty_mcfly_oracle         John Kim        False   \n",
       "1  terminator_katniss_everdeen_glimmer     Brian Chaney        False   \n",
       "2          james_bond_labyrinth_gollum  Danielle Parker        False   \n",
       "3            v_quest_han_solo_wondrous    Brittany Lane        False   \n",
       "4        enigma_hulk_surreal_starlight    Justin Willis        False   \n",
       "\n",
       "                                          reviewText  \n",
       "0  Green slowly cranks up the dread with style an...  \n",
       "1  Philip Noyce's direction is elegant and unforc...  \n",
       "2  It wouldn't do to say what path Maria ultimate...  \n",
       "3  Pig is not exactly the arthouse John Wick that...  \n",
       "4  An imaginative no-budget musical of sorts abou...  "
      ]
     },
     "execution_count": 5,
     "metadata": {},
     "output_type": "execute_result"
    }
   ],
   "source": [
    "test.head()"
   ]
  },
  {
   "cell_type": "markdown",
   "id": "9590db02",
   "metadata": {
    "papermill": {
     "duration": 0.02328,
     "end_time": "2023-08-13T14:03:57.102023",
     "exception": false,
     "start_time": "2023-08-13T14:03:57.078743",
     "status": "completed"
    },
    "tags": []
   },
   "source": [
    "`test.csv` - the test set, has review features, but no sentiment column, since it is the target.\n",
    "\n",
    "This dataset maintains the same column structure as the `train` dataset, except for the absence of the sentiment column, which is excluded in the test set. Also the column ` isFrequentReviewer` is renamed as `isTopCritic`."
   ]
  },
  {
   "cell_type": "markdown",
   "id": "83c34de9",
   "metadata": {
    "papermill": {
     "duration": 0.022524,
     "end_time": "2023-08-13T14:03:57.147680",
     "exception": false,
     "start_time": "2023-08-13T14:03:57.125156",
     "status": "completed"
    },
    "tags": []
   },
   "source": [
    "### 1.2 Data statistics\n",
    "Let's use `info()` method to get quick description of data."
   ]
  },
  {
   "cell_type": "code",
   "execution_count": 6,
   "id": "436120e3",
   "metadata": {
    "execution": {
     "iopub.execute_input": "2023-08-13T14:03:57.196019Z",
     "iopub.status.busy": "2023-08-13T14:03:57.195200Z",
     "iopub.status.idle": "2023-08-13T14:03:57.440947Z",
     "shell.execute_reply": "2023-08-13T14:03:57.439574Z"
    },
    "papermill": {
     "duration": 0.27367,
     "end_time": "2023-08-13T14:03:57.444158",
     "exception": false,
     "start_time": "2023-08-13T14:03:57.170488",
     "status": "completed"
    },
    "tags": []
   },
   "outputs": [
    {
     "name": "stdout",
     "output_type": "stream",
     "text": [
      "<class 'pandas.core.frame.DataFrame'>\n",
      "RangeIndex: 162758 entries, 0 to 162757\n",
      "Data columns (total 5 columns):\n",
      " #   Column              Non-Null Count   Dtype \n",
      "---  ------              --------------   ----- \n",
      " 0   movieid             162758 non-null  object\n",
      " 1   reviewerName        162758 non-null  object\n",
      " 2   isFrequentReviewer  162758 non-null  bool  \n",
      " 3   reviewText          156311 non-null  object\n",
      " 4   sentiment           162758 non-null  object\n",
      "dtypes: bool(1), object(4)\n",
      "memory usage: 5.1+ MB\n"
     ]
    }
   ],
   "source": [
    "train.info()"
   ]
  },
  {
   "cell_type": "markdown",
   "id": "8ef24dcf",
   "metadata": {
    "papermill": {
     "duration": 0.02297,
     "end_time": "2023-08-13T14:03:57.490842",
     "exception": false,
     "start_time": "2023-08-13T14:03:57.467872",
     "status": "completed"
    },
    "tags": []
   },
   "source": [
    "* Total entries: 162758 \n",
    "* There are total 5 columns: 4 features + 1 label\n",
    "  * Label column: `sentiment`\n",
    "  * Features: `[movieid,reviewerName, isFrequentReviewer, reviewText]`\n",
    "* 4 columns are object and 1 column is bool"
   ]
  },
  {
   "cell_type": "code",
   "execution_count": 7,
   "id": "c6efa3a1",
   "metadata": {
    "execution": {
     "iopub.execute_input": "2023-08-13T14:03:57.539766Z",
     "iopub.status.busy": "2023-08-13T14:03:57.539280Z",
     "iopub.status.idle": "2023-08-13T14:03:58.051862Z",
     "shell.execute_reply": "2023-08-13T14:03:58.050450Z"
    },
    "papermill": {
     "duration": 0.543458,
     "end_time": "2023-08-13T14:03:58.057406",
     "exception": false,
     "start_time": "2023-08-13T14:03:57.513948",
     "status": "completed"
    },
    "tags": []
   },
   "outputs": [
    {
     "name": "stdout",
     "output_type": "stream",
     "text": [
      "<class 'pandas.core.frame.DataFrame'>\n",
      "RangeIndex: 143258 entries, 0 to 143257\n",
      "Data columns (total 14 columns):\n",
      " #   Column                Non-Null Count   Dtype  \n",
      "---  ------                --------------   -----  \n",
      " 0   movieid               143258 non-null  object \n",
      " 1   title                 143258 non-null  object \n",
      " 2   audienceScore         73248 non-null   float64\n",
      " 3   rating                13991 non-null   object \n",
      " 4   ratingContents        13991 non-null   object \n",
      " 5   releaseDateTheaters   30773 non-null   object \n",
      " 6   releaseDateStreaming  79420 non-null   object \n",
      " 7   runtimeMinutes        129431 non-null  float64\n",
      " 8   genre                 132175 non-null  object \n",
      " 9   originalLanguage      129400 non-null  object \n",
      " 10  director              143258 non-null  object \n",
      " 11  boxOffice             14743 non-null   object \n",
      " 12  distributor           23005 non-null   object \n",
      " 13  soundType             15917 non-null   object \n",
      "dtypes: float64(2), object(12)\n",
      "memory usage: 15.3+ MB\n"
     ]
    }
   ],
   "source": [
    "movie.info()"
   ]
  },
  {
   "cell_type": "markdown",
   "id": "7d044eab",
   "metadata": {
    "papermill": {
     "duration": 0.02292,
     "end_time": "2023-08-13T14:03:58.104515",
     "exception": false,
     "start_time": "2023-08-13T14:03:58.081595",
     "status": "completed"
    },
    "tags": []
   },
   "source": [
    "* Total entries: 126404 \n",
    "* There are total 14 columns: 14 features\n",
    "  * Features: `[movieid, title, audienceScore, rating, ratingContents, releaseDateTheaters, releaseDateStreaming, runtimeMinutes, genre, originalLanguage, director, boxOffice, distributor, soundType]`\n",
    "* 12 columns are object and 2 columns are float64"
   ]
  },
  {
   "cell_type": "code",
   "execution_count": 8,
   "id": "9127240b",
   "metadata": {
    "execution": {
     "iopub.execute_input": "2023-08-13T14:03:58.152881Z",
     "iopub.status.busy": "2023-08-13T14:03:58.152265Z",
     "iopub.status.idle": "2023-08-13T14:03:58.218395Z",
     "shell.execute_reply": "2023-08-13T14:03:58.217129Z"
    },
    "papermill": {
     "duration": 0.093408,
     "end_time": "2023-08-13T14:03:58.220970",
     "exception": false,
     "start_time": "2023-08-13T14:03:58.127562",
     "status": "completed"
    },
    "tags": []
   },
   "outputs": [
    {
     "name": "stdout",
     "output_type": "stream",
     "text": [
      "<class 'pandas.core.frame.DataFrame'>\n",
      "RangeIndex: 55315 entries, 0 to 55314\n",
      "Data columns (total 4 columns):\n",
      " #   Column        Non-Null Count  Dtype \n",
      "---  ------        --------------  ----- \n",
      " 0   movieid       55315 non-null  object\n",
      " 1   reviewerName  55315 non-null  object\n",
      " 2   isTopCritic   55315 non-null  bool  \n",
      " 3   reviewText    52805 non-null  object\n",
      "dtypes: bool(1), object(3)\n",
      "memory usage: 1.3+ MB\n"
     ]
    }
   ],
   "source": [
    "test.info()"
   ]
  },
  {
   "cell_type": "markdown",
   "id": "b0947de1",
   "metadata": {
    "papermill": {
     "duration": 0.023576,
     "end_time": "2023-08-13T14:03:58.267676",
     "exception": false,
     "start_time": "2023-08-13T14:03:58.244100",
     "status": "completed"
    },
    "tags": []
   },
   "source": [
    "* Total entries: 55315\n",
    "* There are total 4 columns: 4 features\n",
    "  * Features: `[movieid, reviewerName, isTopCritic, reviewText]`\n",
    "* 4 columns are object and 1 column is bool"
   ]
  },
  {
   "cell_type": "markdown",
   "id": "022f91ab",
   "metadata": {
    "papermill": {
     "duration": 0.023016,
     "end_time": "2023-08-13T14:03:58.314304",
     "exception": false,
     "start_time": "2023-08-13T14:03:58.291288",
     "status": "completed"
    },
    "tags": []
   },
   "source": [
    "> From above we can conclude that is futher process we can join the   `train`   and   `movie`   dataset on  `movieid`. Also, in the test dataset, we need to rename the column labeled `isTopCritic` to `isFrequentReviewer` to maintain the consistency.\n",
    "\n",
    "> Moving forward, our next objective is to find the relevent features, address any null or duplicate values, and do dataset cleaning as part of the upcoming steps."
   ]
  },
  {
   "cell_type": "markdown",
   "id": "bdcb22d9",
   "metadata": {
    "papermill": {
     "duration": 0.023407,
     "end_time": "2023-08-13T14:03:58.361562",
     "exception": false,
     "start_time": "2023-08-13T14:03:58.338155",
     "status": "completed"
    },
    "tags": []
   },
   "source": [
    "# **2. Data Cleaning**\n",
    "\n",
    "Firstly, we must check for any duplicate `movieid` values in the dataset. If duplicates exist, we should remove them beforehand to maintain data quality and avoid unnecessary rows when combining datasets, which can affect the model's accuracy. Also, exclude any duplicated and null rows from train data."
   ]
  },
  {
   "cell_type": "code",
   "execution_count": 9,
   "id": "ae056c59",
   "metadata": {
    "execution": {
     "iopub.execute_input": "2023-08-13T14:03:58.410110Z",
     "iopub.status.busy": "2023-08-13T14:03:58.409497Z",
     "iopub.status.idle": "2023-08-13T14:03:58.443972Z",
     "shell.execute_reply": "2023-08-13T14:03:58.442972Z"
    },
    "papermill": {
     "duration": 0.062056,
     "end_time": "2023-08-13T14:03:58.446814",
     "exception": false,
     "start_time": "2023-08-13T14:03:58.384758",
     "status": "completed"
    },
    "tags": []
   },
   "outputs": [
    {
     "data": {
      "text/plain": [
       "16854"
      ]
     },
     "execution_count": 9,
     "metadata": {},
     "output_type": "execute_result"
    }
   ],
   "source": [
    "movie['movieid'].duplicated().sum() # these are the duplicated movieid in the dataset"
   ]
  },
  {
   "cell_type": "code",
   "execution_count": 10,
   "id": "6bfe0940",
   "metadata": {
    "execution": {
     "iopub.execute_input": "2023-08-13T14:03:58.499177Z",
     "iopub.status.busy": "2023-08-13T14:03:58.498688Z",
     "iopub.status.idle": "2023-08-13T14:03:59.009777Z",
     "shell.execute_reply": "2023-08-13T14:03:59.008098Z"
    },
    "papermill": {
     "duration": 0.540985,
     "end_time": "2023-08-13T14:03:59.012752",
     "exception": false,
     "start_time": "2023-08-13T14:03:58.471767",
     "status": "completed"
    },
    "tags": []
   },
   "outputs": [
    {
     "data": {
      "text/plain": [
       "movieid                      0\n",
       "title                        0\n",
       "audienceScore            70010\n",
       "rating                  129267\n",
       "ratingContents          129267\n",
       "releaseDateTheaters     112485\n",
       "releaseDateStreaming     63838\n",
       "runtimeMinutes           13827\n",
       "genre                    11083\n",
       "originalLanguage         13858\n",
       "director                     0\n",
       "boxOffice               128515\n",
       "distributor             120253\n",
       "soundType               127341\n",
       "dtype: int64"
      ]
     },
     "execution_count": 10,
     "metadata": {},
     "output_type": "execute_result"
    }
   ],
   "source": [
    "movie.isnull().sum()"
   ]
  },
  {
   "cell_type": "code",
   "execution_count": 11,
   "id": "c00f6293",
   "metadata": {
    "execution": {
     "iopub.execute_input": "2023-08-13T14:03:59.069960Z",
     "iopub.status.busy": "2023-08-13T14:03:59.069080Z",
     "iopub.status.idle": "2023-08-13T14:03:59.570637Z",
     "shell.execute_reply": "2023-08-13T14:03:59.569360Z"
    },
    "papermill": {
     "duration": 0.533368,
     "end_time": "2023-08-13T14:03:59.573114",
     "exception": false,
     "start_time": "2023-08-13T14:03:59.039746",
     "status": "completed"
    },
    "tags": []
   },
   "outputs": [
    {
     "data": {
      "text/plain": [
       "movieid                  0.000000\n",
       "title                    0.000000\n",
       "audienceScore           48.869871\n",
       "rating                  90.233704\n",
       "ratingContents          90.233704\n",
       "releaseDateTheaters     78.519175\n",
       "releaseDateStreaming    44.561560\n",
       "runtimeMinutes           9.651817\n",
       "genre                    7.736392\n",
       "originalLanguage         9.673456\n",
       "director                 0.000000\n",
       "boxOffice               89.708777\n",
       "distributor             83.941560\n",
       "soundType               88.889277\n",
       "dtype: float64"
      ]
     },
     "execution_count": 11,
     "metadata": {},
     "output_type": "execute_result"
    }
   ],
   "source": [
    "(movie.isnull().sum() / len(movie)) * 100"
   ]
  },
  {
   "cell_type": "code",
   "execution_count": 12,
   "id": "00eaee5b",
   "metadata": {
    "execution": {
     "iopub.execute_input": "2023-08-13T14:03:59.625279Z",
     "iopub.status.busy": "2023-08-13T14:03:59.624780Z",
     "iopub.status.idle": "2023-08-13T14:04:00.667835Z",
     "shell.execute_reply": "2023-08-13T14:04:00.666384Z"
    },
    "papermill": {
     "duration": 1.073509,
     "end_time": "2023-08-13T14:04:00.670529",
     "exception": false,
     "start_time": "2023-08-13T14:03:59.597020",
     "status": "completed"
    },
    "tags": []
   },
   "outputs": [
    {
     "data": {
      "image/png": "[encoded data removed]",
      "text/plain": [
       "<Figure size 600x600 with 1 Axes>"
      ]
     },
     "metadata": {},
     "output_type": "display_data"
    }
   ],
   "source": [
    "import matplotlib.pyplot as plt\n",
    "null_counts = (movie.isnull().sum() / len(movie)) * 100\n",
    "plt.figure(figsize=(6, 6))\n",
    "null_counts.plot(kind='bar')\n",
    "plt.title('Count of Null Values in Each Column')\n",
    "plt.xlabel('Columns')\n",
    "plt.ylabel('Count')\n",
    "plt.xticks(rotation=45, ha='right')\n",
    "plt.tight_layout()\n",
    "plt.show()"
   ]
  },
  {
   "cell_type": "code",
   "execution_count": 13,
   "id": "6583455f",
   "metadata": {
    "execution": {
     "iopub.execute_input": "2023-08-13T14:04:00.721567Z",
     "iopub.status.busy": "2023-08-13T14:04:00.721140Z",
     "iopub.status.idle": "2023-08-13T14:04:00.944189Z",
     "shell.execute_reply": "2023-08-13T14:04:00.943024Z"
    },
    "papermill": {
     "duration": 0.25149,
     "end_time": "2023-08-13T14:04:00.946620",
     "exception": false,
     "start_time": "2023-08-13T14:04:00.695130",
     "status": "completed"
    },
    "tags": []
   },
   "outputs": [
    {
     "data": {
      "text/plain": [
       "movieid                  0\n",
       "reviewerName             0\n",
       "isFrequentReviewer       0\n",
       "reviewText            6447\n",
       "sentiment                0\n",
       "dtype: int64"
      ]
     },
     "execution_count": 13,
     "metadata": {},
     "output_type": "execute_result"
    }
   ],
   "source": [
    "train.isnull().sum()"
   ]
  },
  {
   "cell_type": "code",
   "execution_count": 14,
   "id": "d787d652",
   "metadata": {
    "execution": {
     "iopub.execute_input": "2023-08-13T14:04:00.999546Z",
     "iopub.status.busy": "2023-08-13T14:04:00.999071Z",
     "iopub.status.idle": "2023-08-13T14:04:01.170807Z",
     "shell.execute_reply": "2023-08-13T14:04:01.169420Z"
    },
    "papermill": {
     "duration": 0.201691,
     "end_time": "2023-08-13T14:04:01.173470",
     "exception": false,
     "start_time": "2023-08-13T14:04:00.971779",
     "status": "completed"
    },
    "tags": []
   },
   "outputs": [
    {
     "data": {
      "text/plain": [
       "1118"
      ]
     },
     "execution_count": 14,
     "metadata": {},
     "output_type": "execute_result"
    }
   ],
   "source": [
    "train.duplicated().sum()"
   ]
  },
  {
   "cell_type": "code",
   "execution_count": 15,
   "id": "888aaec2",
   "metadata": {
    "execution": {
     "iopub.execute_input": "2023-08-13T14:04:01.224997Z",
     "iopub.status.busy": "2023-08-13T14:04:01.224608Z",
     "iopub.status.idle": "2023-08-13T14:04:01.290022Z",
     "shell.execute_reply": "2023-08-13T14:04:01.288635Z"
    },
    "papermill": {
     "duration": 0.094258,
     "end_time": "2023-08-13T14:04:01.292608",
     "exception": false,
     "start_time": "2023-08-13T14:04:01.198350",
     "status": "completed"
    },
    "tags": []
   },
   "outputs": [
    {
     "data": {
      "text/plain": [
       "movieid            0\n",
       "reviewerName       0\n",
       "isTopCritic        0\n",
       "reviewText      2510\n",
       "dtype: int64"
      ]
     },
     "execution_count": 15,
     "metadata": {},
     "output_type": "execute_result"
    }
   ],
   "source": [
    "test.isnull().sum()"
   ]
  },
  {
   "cell_type": "code",
   "execution_count": 16,
   "id": "5accbd06",
   "metadata": {
    "execution": {
     "iopub.execute_input": "2023-08-13T14:04:01.344962Z",
     "iopub.status.busy": "2023-08-13T14:04:01.344029Z",
     "iopub.status.idle": "2023-08-13T14:04:01.422794Z",
     "shell.execute_reply": "2023-08-13T14:04:01.421274Z"
    },
    "papermill": {
     "duration": 0.108006,
     "end_time": "2023-08-13T14:04:01.425635",
     "exception": false,
     "start_time": "2023-08-13T14:04:01.317629",
     "status": "completed"
    },
    "tags": []
   },
   "outputs": [],
   "source": [
    "#Keeping only first instance of a movieid\n",
    "movie = movie.drop_duplicates(subset=\"movieid\", keep=\"first\") \n",
    "\n",
    "\n",
    "# removing all the columns that have more than 10% null values in the dataset. Also, I am excluding the title column becaues it is just like movieid.\n",
    "movie = movie.drop(columns=[\"title\",\"rating\",\"ratingContents\",\"releaseDateTheaters\",\n",
    "                            \"boxOffice\" ,\"distributor\",\"soundType\", \"releaseDateStreaming\", \"audienceScore\"]) "
   ]
  },
  {
   "cell_type": "code",
   "execution_count": 17,
   "id": "800207e8",
   "metadata": {
    "execution": {
     "iopub.execute_input": "2023-08-13T14:04:01.477883Z",
     "iopub.status.busy": "2023-08-13T14:04:01.477499Z",
     "iopub.status.idle": "2023-08-13T14:04:01.496104Z",
     "shell.execute_reply": "2023-08-13T14:04:01.494765Z"
    },
    "papermill": {
     "duration": 0.047955,
     "end_time": "2023-08-13T14:04:01.498697",
     "exception": false,
     "start_time": "2023-08-13T14:04:01.450742",
     "status": "completed"
    },
    "tags": []
   },
   "outputs": [
    {
     "data": {
      "text/html": [
       "<div>\n",
       "<style scoped>\n",
       "    .dataframe tbody tr th:only-of-type {\n",
       "        vertical-align: middle;\n",
       "    }\n",
       "\n",
       "    .dataframe tbody tr th {\n",
       "        vertical-align: top;\n",
       "    }\n",
       "\n",
       "    .dataframe thead th {\n",
       "        text-align: right;\n",
       "    }\n",
       "</style>\n",
       "<table border=\"1\" class=\"dataframe\">\n",
       "  <thead>\n",
       "    <tr style=\"text-align: right;\">\n",
       "      <th></th>\n",
       "      <th>movieid</th>\n",
       "      <th>runtimeMinutes</th>\n",
       "      <th>genre</th>\n",
       "      <th>originalLanguage</th>\n",
       "      <th>director</th>\n",
       "    </tr>\n",
       "  </thead>\n",
       "  <tbody>\n",
       "    <tr>\n",
       "      <th>0</th>\n",
       "      <td>han_solo_heroic_myth_wonder_woman</td>\n",
       "      <td>75.0</td>\n",
       "      <td>Comedy, Horror, Sci-fi</td>\n",
       "      <td>English</td>\n",
       "      <td>Claude Nicolet</td>\n",
       "    </tr>\n",
       "    <tr>\n",
       "      <th>1</th>\n",
       "      <td>voyage_tyler_durden_han_solo_stardust</td>\n",
       "      <td>114.0</td>\n",
       "      <td>Drama</td>\n",
       "      <td>English</td>\n",
       "      <td>Nathan Haack</td>\n",
       "    </tr>\n",
       "    <tr>\n",
       "      <th>2</th>\n",
       "      <td>norman_bates_ferris_bueller_hermione_granger_v...</td>\n",
       "      <td>120.0</td>\n",
       "      <td>Drama</td>\n",
       "      <td>Korean</td>\n",
       "      <td>Theresa Smith</td>\n",
       "    </tr>\n",
       "    <tr>\n",
       "      <th>3</th>\n",
       "      <td>elegant_hermione_granger</td>\n",
       "      <td>90.0</td>\n",
       "      <td>Action, Mystery &amp; thriller</td>\n",
       "      <td>English</td>\n",
       "      <td>Donald Lewis</td>\n",
       "    </tr>\n",
       "    <tr>\n",
       "      <th>4</th>\n",
       "      <td>adventure_rocky_balboa</td>\n",
       "      <td>80.0</td>\n",
       "      <td>Fantasy, Adventure, Animation</td>\n",
       "      <td>English</td>\n",
       "      <td>Howard Simms</td>\n",
       "    </tr>\n",
       "    <tr>\n",
       "      <th>...</th>\n",
       "      <td>...</td>\n",
       "      <td>...</td>\n",
       "      <td>...</td>\n",
       "      <td>...</td>\n",
       "      <td>...</td>\n",
       "    </tr>\n",
       "    <tr>\n",
       "      <th>143252</th>\n",
       "      <td>james_bond_jason_bourne</td>\n",
       "      <td>131.0</td>\n",
       "      <td>Action, Mystery &amp; thriller</td>\n",
       "      <td>Hindi</td>\n",
       "      <td>Reginald Davis</td>\n",
       "    </tr>\n",
       "    <tr>\n",
       "      <th>143253</th>\n",
       "      <td>sherlock_holmes_surreal_james_bond</td>\n",
       "      <td>90.0</td>\n",
       "      <td>Action, Adventure, Anime</td>\n",
       "      <td>Japanese</td>\n",
       "      <td>William Sims</td>\n",
       "    </tr>\n",
       "    <tr>\n",
       "      <th>143254</th>\n",
       "      <td>mr._miyagi_katniss_everdeen_harmony</td>\n",
       "      <td>99.0</td>\n",
       "      <td>Drama</td>\n",
       "      <td>English</td>\n",
       "      <td>Robert Paddock</td>\n",
       "    </tr>\n",
       "    <tr>\n",
       "      <th>143255</th>\n",
       "      <td>elegant_emerald_valiant_donnie_darko</td>\n",
       "      <td>43.0</td>\n",
       "      <td>Documentary</td>\n",
       "      <td>English</td>\n",
       "      <td>Roy Lovelace</td>\n",
       "    </tr>\n",
       "    <tr>\n",
       "      <th>143256</th>\n",
       "      <td>wonder_hermione_granger_hulk_v</td>\n",
       "      <td>63.0</td>\n",
       "      <td>Drama</td>\n",
       "      <td>English</td>\n",
       "      <td>Dwayne Clayton</td>\n",
       "    </tr>\n",
       "  </tbody>\n",
       "</table>\n",
       "<p>126404 rows × 5 columns</p>\n",
       "</div>"
      ],
      "text/plain": [
       "                                                  movieid  runtimeMinutes  \\\n",
       "0                       han_solo_heroic_myth_wonder_woman            75.0   \n",
       "1                   voyage_tyler_durden_han_solo_stardust           114.0   \n",
       "2       norman_bates_ferris_bueller_hermione_granger_v...           120.0   \n",
       "3                                elegant_hermione_granger            90.0   \n",
       "4                                  adventure_rocky_balboa            80.0   \n",
       "...                                                   ...             ...   \n",
       "143252                            james_bond_jason_bourne           131.0   \n",
       "143253                 sherlock_holmes_surreal_james_bond            90.0   \n",
       "143254                mr._miyagi_katniss_everdeen_harmony            99.0   \n",
       "143255               elegant_emerald_valiant_donnie_darko            43.0   \n",
       "143256                     wonder_hermione_granger_hulk_v            63.0   \n",
       "\n",
       "                                genre originalLanguage        director  \n",
       "0              Comedy, Horror, Sci-fi          English  Claude Nicolet  \n",
       "1                               Drama          English    Nathan Haack  \n",
       "2                               Drama           Korean   Theresa Smith  \n",
       "3          Action, Mystery & thriller          English    Donald Lewis  \n",
       "4       Fantasy, Adventure, Animation          English    Howard Simms  \n",
       "...                               ...              ...             ...  \n",
       "143252     Action, Mystery & thriller            Hindi  Reginald Davis  \n",
       "143253       Action, Adventure, Anime         Japanese    William Sims  \n",
       "143254                          Drama          English  Robert Paddock  \n",
       "143255                    Documentary          English    Roy Lovelace  \n",
       "143256                          Drama          English  Dwayne Clayton  \n",
       "\n",
       "[126404 rows x 5 columns]"
      ]
     },
     "execution_count": 17,
     "metadata": {},
     "output_type": "execute_result"
    }
   ],
   "source": [
    "movie"
   ]
  },
  {
   "cell_type": "code",
   "execution_count": 18,
   "id": "d60c2d71",
   "metadata": {
    "execution": {
     "iopub.execute_input": "2023-08-13T14:04:01.551673Z",
     "iopub.status.busy": "2023-08-13T14:04:01.551286Z",
     "iopub.status.idle": "2023-08-13T14:04:01.982586Z",
     "shell.execute_reply": "2023-08-13T14:04:01.981180Z"
    },
    "papermill": {
     "duration": 0.461514,
     "end_time": "2023-08-13T14:04:01.985778",
     "exception": false,
     "start_time": "2023-08-13T14:04:01.524264",
     "status": "completed"
    },
    "tags": []
   },
   "outputs": [
    {
     "data": {
      "text/html": [
       "<div>\n",
       "<style scoped>\n",
       "    .dataframe tbody tr th:only-of-type {\n",
       "        vertical-align: middle;\n",
       "    }\n",
       "\n",
       "    .dataframe tbody tr th {\n",
       "        vertical-align: top;\n",
       "    }\n",
       "\n",
       "    .dataframe thead th {\n",
       "        text-align: right;\n",
       "    }\n",
       "</style>\n",
       "<table border=\"1\" class=\"dataframe\">\n",
       "  <thead>\n",
       "    <tr style=\"text-align: right;\">\n",
       "      <th></th>\n",
       "      <th>movieid</th>\n",
       "      <th>reviewerName</th>\n",
       "      <th>isFrequentReviewer</th>\n",
       "      <th>reviewText</th>\n",
       "      <th>sentiment</th>\n",
       "    </tr>\n",
       "  </thead>\n",
       "  <tbody>\n",
       "    <tr>\n",
       "      <th>0</th>\n",
       "      <td>marvelous_pirate</td>\n",
       "      <td>Benjamin Henry</td>\n",
       "      <td>False</td>\n",
       "      <td>Henry Selick’s first movie since 2009’s Corali...</td>\n",
       "      <td>POSITIVE</td>\n",
       "    </tr>\n",
       "    <tr>\n",
       "      <th>1</th>\n",
       "      <td>tony_montana_frodo_baggins_v_rocky_balboa</td>\n",
       "      <td>Felicia Lopez</td>\n",
       "      <td>False</td>\n",
       "      <td>With a cast that reads like the Vogue Oscar pa...</td>\n",
       "      <td>NEGATIVE</td>\n",
       "    </tr>\n",
       "    <tr>\n",
       "      <th>2</th>\n",
       "      <td>darth_vader_katniss_everdeen_sorcerer_donnie_d...</td>\n",
       "      <td>Mr. Charles Burgess</td>\n",
       "      <td>True</td>\n",
       "      <td>Creed II does not give us anything but another...</td>\n",
       "      <td>POSITIVE</td>\n",
       "    </tr>\n",
       "    <tr>\n",
       "      <th>3</th>\n",
       "      <td>lara_croft_glimmer</td>\n",
       "      <td>Ryan Barrett</td>\n",
       "      <td>False</td>\n",
       "      <td>I know what you're thinking, but this is no Li...</td>\n",
       "      <td>POSITIVE</td>\n",
       "    </tr>\n",
       "    <tr>\n",
       "      <th>4</th>\n",
       "      <td>jason_bourne_surreal_the_terminator_indiana_jones</td>\n",
       "      <td>Alexander Glover</td>\n",
       "      <td>False</td>\n",
       "      <td>Director Fernando Meirelles tells the story wi...</td>\n",
       "      <td>POSITIVE</td>\n",
       "    </tr>\n",
       "    <tr>\n",
       "      <th>...</th>\n",
       "      <td>...</td>\n",
       "      <td>...</td>\n",
       "      <td>...</td>\n",
       "      <td>...</td>\n",
       "      <td>...</td>\n",
       "    </tr>\n",
       "    <tr>\n",
       "      <th>162753</th>\n",
       "      <td>the_joker_ethereal_captain_jack_sparrow_fantastic</td>\n",
       "      <td>Danny Mueller</td>\n",
       "      <td>False</td>\n",
       "      <td>A top-notch thriller with genuine surprises an...</td>\n",
       "      <td>POSITIVE</td>\n",
       "    </tr>\n",
       "    <tr>\n",
       "      <th>162754</th>\n",
       "      <td>e.t._hannibal_lecter_vito_corleone_katniss_eve...</td>\n",
       "      <td>Jennifer Clayton</td>\n",
       "      <td>True</td>\n",
       "      <td>Some people find Derek Zoolander funny and lik...</td>\n",
       "      <td>NEGATIVE</td>\n",
       "    </tr>\n",
       "    <tr>\n",
       "      <th>162755</th>\n",
       "      <td>infinite_enigma_luke_skywalker</td>\n",
       "      <td>Bryan Wilson</td>\n",
       "      <td>False</td>\n",
       "      <td>This fun, gentle comedy focuses mainly on them...</td>\n",
       "      <td>POSITIVE</td>\n",
       "    </tr>\n",
       "    <tr>\n",
       "      <th>162756</th>\n",
       "      <td>emerald_oracle_iron_man_wolverine</td>\n",
       "      <td>Erik Parker</td>\n",
       "      <td>False</td>\n",
       "      <td>The film is rescued by a strong third act, but...</td>\n",
       "      <td>NEGATIVE</td>\n",
       "    </tr>\n",
       "    <tr>\n",
       "      <th>162757</th>\n",
       "      <td>james_t._kirk_phenomenal_zephyr_chronicles</td>\n",
       "      <td>Howard Evans</td>\n",
       "      <td>False</td>\n",
       "      <td>A peerless exercise in stimulus response.</td>\n",
       "      <td>POSITIVE</td>\n",
       "    </tr>\n",
       "  </tbody>\n",
       "</table>\n",
       "<p>155243 rows × 5 columns</p>\n",
       "</div>"
      ],
      "text/plain": [
       "                                                  movieid  \\\n",
       "0                                        marvelous_pirate   \n",
       "1               tony_montana_frodo_baggins_v_rocky_balboa   \n",
       "2       darth_vader_katniss_everdeen_sorcerer_donnie_d...   \n",
       "3                                      lara_croft_glimmer   \n",
       "4       jason_bourne_surreal_the_terminator_indiana_jones   \n",
       "...                                                   ...   \n",
       "162753  the_joker_ethereal_captain_jack_sparrow_fantastic   \n",
       "162754  e.t._hannibal_lecter_vito_corleone_katniss_eve...   \n",
       "162755                     infinite_enigma_luke_skywalker   \n",
       "162756                  emerald_oracle_iron_man_wolverine   \n",
       "162757         james_t._kirk_phenomenal_zephyr_chronicles   \n",
       "\n",
       "               reviewerName  isFrequentReviewer  \\\n",
       "0            Benjamin Henry               False   \n",
       "1             Felicia Lopez               False   \n",
       "2       Mr. Charles Burgess                True   \n",
       "3              Ryan Barrett               False   \n",
       "4          Alexander Glover               False   \n",
       "...                     ...                 ...   \n",
       "162753        Danny Mueller               False   \n",
       "162754     Jennifer Clayton                True   \n",
       "162755         Bryan Wilson               False   \n",
       "162756          Erik Parker               False   \n",
       "162757         Howard Evans               False   \n",
       "\n",
       "                                               reviewText sentiment  \n",
       "0       Henry Selick’s first movie since 2009’s Corali...  POSITIVE  \n",
       "1       With a cast that reads like the Vogue Oscar pa...  NEGATIVE  \n",
       "2       Creed II does not give us anything but another...  POSITIVE  \n",
       "3       I know what you're thinking, but this is no Li...  POSITIVE  \n",
       "4       Director Fernando Meirelles tells the story wi...  POSITIVE  \n",
       "...                                                   ...       ...  \n",
       "162753  A top-notch thriller with genuine surprises an...  POSITIVE  \n",
       "162754  Some people find Derek Zoolander funny and lik...  NEGATIVE  \n",
       "162755  This fun, gentle comedy focuses mainly on them...  POSITIVE  \n",
       "162756  The film is rescued by a strong third act, but...  NEGATIVE  \n",
       "162757          A peerless exercise in stimulus response.  POSITIVE  \n",
       "\n",
       "[155243 rows x 5 columns]"
      ]
     },
     "execution_count": 18,
     "metadata": {},
     "output_type": "execute_result"
    }
   ],
   "source": [
    "train = train.dropna() # removing null values row from train\n",
    "train.drop_duplicates() # removing duplicated values row from train"
   ]
  },
  {
   "cell_type": "code",
   "execution_count": 19,
   "id": "4fe8e738",
   "metadata": {
    "execution": {
     "iopub.execute_input": "2023-08-13T14:04:02.045733Z",
     "iopub.status.busy": "2023-08-13T14:04:02.045286Z",
     "iopub.status.idle": "2023-08-13T14:04:02.051612Z",
     "shell.execute_reply": "2023-08-13T14:04:02.050225Z"
    },
    "papermill": {
     "duration": 0.041383,
     "end_time": "2023-08-13T14:04:02.055354",
     "exception": false,
     "start_time": "2023-08-13T14:04:02.013971",
     "status": "completed"
    },
    "tags": []
   },
   "outputs": [],
   "source": [
    "test.rename(columns={\"isTopCritic\":\"isFrequentReviewer\"},inplace=True) #renaming the column"
   ]
  },
  {
   "cell_type": "code",
   "execution_count": 20,
   "id": "5b6c1a24",
   "metadata": {
    "execution": {
     "iopub.execute_input": "2023-08-13T14:04:02.113821Z",
     "iopub.status.busy": "2023-08-13T14:04:02.113103Z",
     "iopub.status.idle": "2023-08-13T14:04:02.143019Z",
     "shell.execute_reply": "2023-08-13T14:04:02.141899Z"
    },
    "papermill": {
     "duration": 0.059738,
     "end_time": "2023-08-13T14:04:02.145288",
     "exception": false,
     "start_time": "2023-08-13T14:04:02.085550",
     "status": "completed"
    },
    "tags": []
   },
   "outputs": [
    {
     "data": {
      "text/plain": [
       "POSITIVE    104719\n",
       "NEGATIVE     51592\n",
       "Name: sentiment, dtype: int64"
      ]
     },
     "execution_count": 20,
     "metadata": {},
     "output_type": "execute_result"
    }
   ],
   "source": [
    "train['sentiment'].value_counts()"
   ]
  },
  {
   "cell_type": "code",
   "execution_count": 21,
   "id": "3e23807a",
   "metadata": {
    "execution": {
     "iopub.execute_input": "2023-08-13T14:04:02.203928Z",
     "iopub.status.busy": "2023-08-13T14:04:02.203079Z",
     "iopub.status.idle": "2023-08-13T14:04:02.392644Z",
     "shell.execute_reply": "2023-08-13T14:04:02.391115Z"
    },
    "papermill": {
     "duration": 0.226846,
     "end_time": "2023-08-13T14:04:02.397995",
     "exception": false,
     "start_time": "2023-08-13T14:04:02.171149",
     "status": "completed"
    },
    "tags": []
   },
   "outputs": [
    {
     "data": {
      "image/png": "[encoded data removed]",
      "text/plain": [
       "<Figure size 640x480 with 1 Axes>"
      ]
     },
     "metadata": {},
     "output_type": "display_data"
    }
   ],
   "source": [
    "labels = ['POSITIVE', 'NEGATIVE']\n",
    "\n",
    "plt.pie(train['sentiment'].value_counts(), labels=labels, autopct='%1.1f%%', startangle=140)\n",
    "plt.axis('equal')\n",
    "\n",
    "plt.title(\"Count of sentiment\")\n",
    "plt.show()"
   ]
  },
  {
   "cell_type": "markdown",
   "id": "7c9d3844",
   "metadata": {
    "papermill": {
     "duration": 0.028061,
     "end_time": "2023-08-13T14:04:02.475518",
     "exception": false,
     "start_time": "2023-08-13T14:04:02.447457",
     "status": "completed"
    },
    "tags": []
   },
   "source": [
    "> After cleaning, our datasets are now refined, with the exception of the test dataset. Despite the presence of 2510 null values in the reviewText column of the test dataset, these instances cannot be removed since the contest requires a submission of 55,315 rows.\n",
    "\n",
    "> Proceeding to the next step, we will execute dataset joining and segmentation. This will involve  feature extraction, addressing missing values through imputation, removing stopwords or any special charater, standardizing numerical features and encoding categorical features to facilitate analysis and modeling."
   ]
  },
  {
   "cell_type": "markdown",
   "id": "9ce48f49",
   "metadata": {
    "papermill": {
     "duration": 0.030764,
     "end_time": "2023-08-13T14:04:02.534859",
     "exception": false,
     "start_time": "2023-08-13T14:04:02.504095",
     "status": "completed"
    },
    "tags": []
   },
   "source": [
    "# **3. Preprocessing**"
   ]
  },
  {
   "cell_type": "markdown",
   "id": "87799e2a",
   "metadata": {
    "papermill": {
     "duration": 0.027517,
     "end_time": "2023-08-13T14:04:02.590348",
     "exception": false,
     "start_time": "2023-08-13T14:04:02.562831",
     "status": "completed"
    },
    "tags": []
   },
   "source": [
    "### 3.1 Data joining\n",
    "Let's join the `movie` dataset with `train` and `test` data over `movieid`."
   ]
  },
  {
   "cell_type": "code",
   "execution_count": 22,
   "id": "19b940f3",
   "metadata": {
    "execution": {
     "iopub.execute_input": "2023-08-13T14:04:02.650555Z",
     "iopub.status.busy": "2023-08-13T14:04:02.649622Z",
     "iopub.status.idle": "2023-08-13T14:04:02.996108Z",
     "shell.execute_reply": "2023-08-13T14:04:02.994480Z"
    },
    "papermill": {
     "duration": 0.381032,
     "end_time": "2023-08-13T14:04:02.999426",
     "exception": false,
     "start_time": "2023-08-13T14:04:02.618394",
     "status": "completed"
    },
    "tags": []
   },
   "outputs": [],
   "source": [
    "# we are keeping all rows from the left dataset.\n",
    "X = train.merge(movie, on='movieid', how='left') \n",
    "Test = test.merge(movie, on='movieid', how='left')"
   ]
  },
  {
   "cell_type": "code",
   "execution_count": 23,
   "id": "989936a6",
   "metadata": {
    "execution": {
     "iopub.execute_input": "2023-08-13T14:04:03.058203Z",
     "iopub.status.busy": "2023-08-13T14:04:03.057742Z",
     "iopub.status.idle": "2023-08-13T14:04:03.085281Z",
     "shell.execute_reply": "2023-08-13T14:04:03.083756Z"
    },
    "papermill": {
     "duration": 0.060688,
     "end_time": "2023-08-13T14:04:03.088340",
     "exception": false,
     "start_time": "2023-08-13T14:04:03.027652",
     "status": "completed"
    },
    "tags": []
   },
   "outputs": [],
   "source": [
    "#seperating labels from the joined data and removing them from the features DataFrame.\n",
    "y = X['sentiment']\n",
    "X = X.drop(columns=['sentiment'])"
   ]
  },
  {
   "cell_type": "markdown",
   "id": "bb0f1346",
   "metadata": {
    "papermill": {
     "duration": 0.026842,
     "end_time": "2023-08-13T14:04:03.142415",
     "exception": false,
     "start_time": "2023-08-13T14:04:03.115573",
     "status": "completed"
    },
    "tags": []
   },
   "source": [
    "### 3.2 Data imputation\n",
    "Filling the missing values that we had encountered in the `movie` dataset."
   ]
  },
  {
   "cell_type": "code",
   "execution_count": 24,
   "id": "69f77970",
   "metadata": {
    "execution": {
     "iopub.execute_input": "2023-08-13T14:04:03.199013Z",
     "iopub.status.busy": "2023-08-13T14:04:03.198572Z",
     "iopub.status.idle": "2023-08-13T14:04:05.252886Z",
     "shell.execute_reply": "2023-08-13T14:04:05.251391Z"
    },
    "papermill": {
     "duration": 2.086212,
     "end_time": "2023-08-13T14:04:05.255869",
     "exception": false,
     "start_time": "2023-08-13T14:04:03.169657",
     "status": "completed"
    },
    "tags": []
   },
   "outputs": [],
   "source": [
    "from sklearn.compose import ColumnTransformer\n",
    "from sklearn.impute import SimpleImputer\n",
    "\n",
    "preprocessor1 = ColumnTransformer(\n",
    "    transformers=[\n",
    "        (\"num_imputer\", SimpleImputer(strategy=\"mean\"), [\"runtimeMinutes\"]),\n",
    "        (\"cat_imputer\", SimpleImputer(strategy=\"most_frequent\"), [\"genre\", \"originalLanguage\"])\n",
    "    ],\n",
    "    remainder=\"passthrough\"\n",
    ")\n",
    "\n",
    "# This ColumnTransformer performs targeted imputation for both numerical and categorical columns.\n",
    "# For numerical columns, missing values are filled with the mean value,\n",
    "# while for categorical columns, the most_frequent value is utilized for imputation."
   ]
  },
  {
   "cell_type": "code",
   "execution_count": 25,
   "id": "bc90be20",
   "metadata": {
    "execution": {
     "iopub.execute_input": "2023-08-13T14:04:05.312928Z",
     "iopub.status.busy": "2023-08-13T14:04:05.312432Z",
     "iopub.status.idle": "2023-08-13T14:04:05.522425Z",
     "shell.execute_reply": "2023-08-13T14:04:05.521093Z"
    },
    "papermill": {
     "duration": 0.241109,
     "end_time": "2023-08-13T14:04:05.525131",
     "exception": false,
     "start_time": "2023-08-13T14:04:05.284022",
     "status": "completed"
    },
    "tags": []
   },
   "outputs": [],
   "source": [
    "X = pd.DataFrame(preprocessor1.fit_transform(X))\n",
    "\n",
    "X.rename(\n",
    "    columns={0: \"runtimeMinutes\", 1: \"genre\",2:\"originalLanguage\",3:\"movieid\",\n",
    "            4: \"reviewerName\", 5:\"isFrequentReviewer\", 6:\"reviewText\", 7:\"director\"},\n",
    "    inplace=True,\n",
    ")"
   ]
  },
  {
   "cell_type": "code",
   "execution_count": 26,
   "id": "29bf09a7",
   "metadata": {
    "execution": {
     "iopub.execute_input": "2023-08-13T14:04:05.579983Z",
     "iopub.status.busy": "2023-08-13T14:04:05.579602Z",
     "iopub.status.idle": "2023-08-13T14:04:05.698037Z",
     "shell.execute_reply": "2023-08-13T14:04:05.696703Z"
    },
    "papermill": {
     "duration": 0.149523,
     "end_time": "2023-08-13T14:04:05.701090",
     "exception": false,
     "start_time": "2023-08-13T14:04:05.551567",
     "status": "completed"
    },
    "tags": []
   },
   "outputs": [],
   "source": [
    "Test = pd.DataFrame(preprocessor1.transform(Test))\n",
    "\n",
    "Test.rename(\n",
    "    columns={0: \"runtimeMinutes\", 1: \"genre\",2:\"originalLanguage\",3:\"movieid\",\n",
    "            4: \"reviewerName\", 5:\"isFrequentReviewer\", 6:\"reviewText\", 7:\"director\"},\n",
    "    inplace=True,\n",
    ")\n",
    "\n",
    "Test[\"reviewText\"] = SimpleImputer(strategy=\"most_frequent\").fit_transform(Test[[\"reviewText\"]]) # imputing the null values of reviewText in Test dataset\n",
    "\n",
    "\n",
    "# In the prvious two snippets, the ColumnTransformer was initially fit on the`X`, and subsequently applied to transform both `on X` and the `Test` data.\n",
    "# Additionally, to enhance clarity and ease of identification in the upcoming feature encoding step, we have renamed the columns."
   ]
  },
  {
   "cell_type": "code",
   "execution_count": 27,
   "id": "6c8abaef",
   "metadata": {
    "execution": {
     "iopub.execute_input": "2023-08-13T14:04:05.759563Z",
     "iopub.status.busy": "2023-08-13T14:04:05.759082Z",
     "iopub.status.idle": "2023-08-13T14:04:05.777111Z",
     "shell.execute_reply": "2023-08-13T14:04:05.776028Z"
    },
    "papermill": {
     "duration": 0.050587,
     "end_time": "2023-08-13T14:04:05.779530",
     "exception": false,
     "start_time": "2023-08-13T14:04:05.728943",
     "status": "completed"
    },
    "tags": []
   },
   "outputs": [],
   "source": [
    "stopwords = ['i','me','my','myself','we','our','ours','ourselves','you',\"you're\",\"you've\",\"you'll\",\n",
    "             \"you'd\",'your','yours','yourself','yourselves','he','him','his','himself','she',\"she's\",\n",
    "             'her','hers','herself','it', \"it's\",'its','itself','they','them','their','theirs','themselves',\n",
    "             'what','which','who','whom','this','that',\"that'll\",'these','those','am','is','are','was',\n",
    "             'were','be','been','being','have','has','had','having','do','does','did','doing','a','an',\n",
    "             'the','and','but','if','or','because','as','until','while','of','at','by','for','with','about',\n",
    "             'against','between', 'into','through','during','before','after','above','below','to','from',\n",
    "             'up','down','in','out','on','off','over','under','again','further','then','once','here','there',\n",
    "             'when','where','why','how','all','any','both','each','few','more','most','other','some','such',\n",
    "             'no','nor','not','only','own','same','so','than','too','very','s','t','can','will','just',\n",
    "             'don',\"don't\",'should',\"should've\",'now','d','ll','m','o','re','ve','y','ain','aren',\"aren't\",\n",
    "             'couldn',\"couldn't\",'didn',\"didn't\",'doesn',\"doesn't\",'hadn',\"hadn't\",'hasn',\"hasn't\",'haven',\n",
    "             \"haven't\",'isn',\"isn't\",'ma','mightn',\"mightn't\",'mustn',\"mustn't\",'needn',\"needn't\",'shan',\n",
    "             \"shan't\",'shouldn',\"shouldn't\",'wasn',\"wasn't\",'weren',\"weren't\",'won',\"won't\",'wouldn',\n",
    "             \"wouldn't\", \"us\"]\n",
    "\n",
    "#this is a custom function for removing stop words from a specific column because these words will not help in learning.\n",
    "def remove_stopwords(text):\n",
    "    new_text=[]\n",
    "    text = str(text)\n",
    "    for word in text.split():\n",
    "        if word in stopwords:\n",
    "            new_text.append('')\n",
    "        else:\n",
    "            new_text.append(word)\n",
    "    x = new_text[:]\n",
    "    new_text.clear()\n",
    "    return \" \".join(x)\n",
    "\n",
    "\n",
    "#Utilizing this function, we seamlessly combine 'originalLanguage,' 'reviewerName,' and 'director' \n",
    "#by appending '_' between the spaces. This step is essential to prevent the unintended creation of separate \n",
    "#columns for each individual word when applying TfidfVectorizer, ensuring a more coherent text representation. \n",
    "#This idea I got by watching the `movieid` column.\n",
    "\n",
    "def joinName(Text):\n",
    "    Name = ''\n",
    "    Text = Text.split()\n",
    "    for i in Text:\n",
    "        Name += i+\"_\"\n",
    "    return Name"
   ]
  },
  {
   "cell_type": "code",
   "execution_count": 28,
   "id": "a2fdff46",
   "metadata": {
    "execution": {
     "iopub.execute_input": "2023-08-13T14:04:05.835452Z",
     "iopub.status.busy": "2023-08-13T14:04:05.834484Z",
     "iopub.status.idle": "2023-08-13T14:04:16.328755Z",
     "shell.execute_reply": "2023-08-13T14:04:16.327605Z"
    },
    "papermill": {
     "duration": 10.526026,
     "end_time": "2023-08-13T14:04:16.331934",
     "exception": false,
     "start_time": "2023-08-13T14:04:05.805908",
     "status": "completed"
    },
    "tags": []
   },
   "outputs": [],
   "source": [
    "import re \n",
    "\n",
    "#removing stopwords \n",
    "X[\"reviewText\"] = X['reviewText'].apply(remove_stopwords)\n",
    "\n",
    "#removing special characters\n",
    "X[\"reviewText\"] = X['reviewText'].str.replace(r'[^\\w\\s]+', '', regex = True)\n",
    "X[\"originalLanguage\"] = X[\"originalLanguage\"].str.replace(r'[^\\w\\s]+', '', regex = True)\n",
    "\n",
    "#joining the names\n",
    "X[\"director\"] = X['director'].apply(joinName)\n",
    "X[\"reviewerName\"] = X['reviewerName'].apply(joinName)\n",
    "X[\"originalLanguage\"] = X['originalLanguage'].apply(joinName)"
   ]
  },
  {
   "cell_type": "code",
   "execution_count": 29,
   "id": "e5b905e9",
   "metadata": {
    "execution": {
     "iopub.execute_input": "2023-08-13T14:04:16.390036Z",
     "iopub.status.busy": "2023-08-13T14:04:16.389613Z",
     "iopub.status.idle": "2023-08-13T14:04:19.986490Z",
     "shell.execute_reply": "2023-08-13T14:04:19.985231Z"
    },
    "papermill": {
     "duration": 3.628685,
     "end_time": "2023-08-13T14:04:19.989379",
     "exception": false,
     "start_time": "2023-08-13T14:04:16.360694",
     "status": "completed"
    },
    "tags": []
   },
   "outputs": [],
   "source": [
    "#Similarly applying the same approach to the Test Dataset\n",
    "\n",
    "Test[\"reviewText\"] = Test['reviewText'].apply(remove_stopwords)\n",
    "\n",
    "Test[\"reviewText\"] = Test['reviewText'].str.replace(r'[^\\w\\s]+', '', regex = True)\n",
    "Test[\"originalLanguage\"] = Test[\"originalLanguage\"].str.replace(r'[^\\w\\s]+', '', regex = True)\n",
    "\n",
    "Test[\"director\"] = Test['director'].apply(joinName)\n",
    "Test[\"reviewerName\"] = Test['reviewerName'].apply(joinName)\n",
    "Test[\"originalLanguage\"] = Test['originalLanguage'].apply(joinName)"
   ]
  },
  {
   "cell_type": "code",
   "execution_count": 30,
   "id": "36df7285",
   "metadata": {
    "execution": {
     "iopub.execute_input": "2023-08-13T14:04:20.046937Z",
     "iopub.status.busy": "2023-08-13T14:04:20.046499Z",
     "iopub.status.idle": "2023-08-13T14:04:20.063125Z",
     "shell.execute_reply": "2023-08-13T14:04:20.062182Z"
    },
    "papermill": {
     "duration": 0.048321,
     "end_time": "2023-08-13T14:04:20.065640",
     "exception": false,
     "start_time": "2023-08-13T14:04:20.017319",
     "status": "completed"
    },
    "tags": []
   },
   "outputs": [
    {
     "data": {
      "text/html": [
       "<div>\n",
       "<style scoped>\n",
       "    .dataframe tbody tr th:only-of-type {\n",
       "        vertical-align: middle;\n",
       "    }\n",
       "\n",
       "    .dataframe tbody tr th {\n",
       "        vertical-align: top;\n",
       "    }\n",
       "\n",
       "    .dataframe thead th {\n",
       "        text-align: right;\n",
       "    }\n",
       "</style>\n",
       "<table border=\"1\" class=\"dataframe\">\n",
       "  <thead>\n",
       "    <tr style=\"text-align: right;\">\n",
       "      <th></th>\n",
       "      <th>runtimeMinutes</th>\n",
       "      <th>genre</th>\n",
       "      <th>originalLanguage</th>\n",
       "      <th>movieid</th>\n",
       "      <th>reviewerName</th>\n",
       "      <th>isFrequentReviewer</th>\n",
       "      <th>reviewText</th>\n",
       "      <th>director</th>\n",
       "    </tr>\n",
       "  </thead>\n",
       "  <tbody>\n",
       "    <tr>\n",
       "      <th>0</th>\n",
       "      <td>105.0</td>\n",
       "      <td>Comedy, Animation, Adventure, Fantasy</td>\n",
       "      <td>English_</td>\n",
       "      <td>marvelous_pirate</td>\n",
       "      <td>Benjamin_Henry_</td>\n",
       "      <td>False</td>\n",
       "      <td>Henry Selicks first movie since 2009s Coraline...</td>\n",
       "      <td>Bennie_Basso_</td>\n",
       "    </tr>\n",
       "    <tr>\n",
       "      <th>1</th>\n",
       "      <td>91.0</td>\n",
       "      <td>Action</td>\n",
       "      <td>English_</td>\n",
       "      <td>tony_montana_frodo_baggins_v_rocky_balboa</td>\n",
       "      <td>Felicia_Lopez_</td>\n",
       "      <td>False</td>\n",
       "      <td>With  cast  reads like  Vogue Oscar party gues...</td>\n",
       "      <td>Alma_White_</td>\n",
       "    </tr>\n",
       "    <tr>\n",
       "      <th>2</th>\n",
       "      <td>130.0</td>\n",
       "      <td>Drama</td>\n",
       "      <td>English_</td>\n",
       "      <td>darth_vader_katniss_everdeen_sorcerer_donnie_d...</td>\n",
       "      <td>Mr._Charles_Burgess_</td>\n",
       "      <td>True</td>\n",
       "      <td>Creed II   give  anything  another slightly su...</td>\n",
       "      <td>Bobby_Oleary_</td>\n",
       "    </tr>\n",
       "    <tr>\n",
       "      <th>3</th>\n",
       "      <td>15.0</td>\n",
       "      <td>Drama</td>\n",
       "      <td>Spanish_</td>\n",
       "      <td>lara_croft_glimmer</td>\n",
       "      <td>Ryan_Barrett_</td>\n",
       "      <td>False</td>\n",
       "      <td>I know   thinking     Limitless Bradley Cooper...</td>\n",
       "      <td>Eric_Hutcherson_</td>\n",
       "    </tr>\n",
       "    <tr>\n",
       "      <th>4</th>\n",
       "      <td>131.0</td>\n",
       "      <td>Crime, Drama</td>\n",
       "      <td>Portuguese_Brazil_</td>\n",
       "      <td>jason_bourne_surreal_the_terminator_indiana_jones</td>\n",
       "      <td>Alexander_Glover_</td>\n",
       "      <td>False</td>\n",
       "      <td>Director Fernando Meirelles tells  story  urge...</td>\n",
       "      <td>John_Trent_</td>\n",
       "    </tr>\n",
       "  </tbody>\n",
       "</table>\n",
       "</div>"
      ],
      "text/plain": [
       "  runtimeMinutes                                  genre    originalLanguage  \\\n",
       "0          105.0  Comedy, Animation, Adventure, Fantasy            English_   \n",
       "1           91.0                                 Action            English_   \n",
       "2          130.0                                  Drama            English_   \n",
       "3           15.0                                  Drama            Spanish_   \n",
       "4          131.0                           Crime, Drama  Portuguese_Brazil_   \n",
       "\n",
       "                                             movieid          reviewerName  \\\n",
       "0                                   marvelous_pirate       Benjamin_Henry_   \n",
       "1          tony_montana_frodo_baggins_v_rocky_balboa        Felicia_Lopez_   \n",
       "2  darth_vader_katniss_everdeen_sorcerer_donnie_d...  Mr._Charles_Burgess_   \n",
       "3                                 lara_croft_glimmer         Ryan_Barrett_   \n",
       "4  jason_bourne_surreal_the_terminator_indiana_jones     Alexander_Glover_   \n",
       "\n",
       "  isFrequentReviewer                                         reviewText  \\\n",
       "0              False  Henry Selicks first movie since 2009s Coraline...   \n",
       "1              False  With  cast  reads like  Vogue Oscar party gues...   \n",
       "2               True  Creed II   give  anything  another slightly su...   \n",
       "3              False  I know   thinking     Limitless Bradley Cooper...   \n",
       "4              False  Director Fernando Meirelles tells  story  urge...   \n",
       "\n",
       "           director  \n",
       "0     Bennie_Basso_  \n",
       "1       Alma_White_  \n",
       "2     Bobby_Oleary_  \n",
       "3  Eric_Hutcherson_  \n",
       "4       John_Trent_  "
      ]
     },
     "execution_count": 30,
     "metadata": {},
     "output_type": "execute_result"
    }
   ],
   "source": [
    "X.head()"
   ]
  },
  {
   "cell_type": "markdown",
   "id": "7806cdb8",
   "metadata": {
    "papermill": {
     "duration": 0.027322,
     "end_time": "2023-08-13T14:04:20.121247",
     "exception": false,
     "start_time": "2023-08-13T14:04:20.093925",
     "status": "completed"
    },
    "tags": []
   },
   "source": [
    "### 3.3 Train Test Split\n",
    "Now, next step involves splitting the dataset into two distinct portions: one for training the model and the other for testing its performance"
   ]
  },
  {
   "cell_type": "code",
   "execution_count": 31,
   "id": "6815ef65",
   "metadata": {
    "execution": {
     "iopub.execute_input": "2023-08-13T14:04:20.179195Z",
     "iopub.status.busy": "2023-08-13T14:04:20.178414Z",
     "iopub.status.idle": "2023-08-13T14:04:20.236252Z",
     "shell.execute_reply": "2023-08-13T14:04:20.235376Z"
    },
    "papermill": {
     "duration": 0.089919,
     "end_time": "2023-08-13T14:04:20.239050",
     "exception": false,
     "start_time": "2023-08-13T14:04:20.149131",
     "status": "completed"
    },
    "tags": []
   },
   "outputs": [],
   "source": [
    "from sklearn.preprocessing import LabelEncoder\n",
    "\n",
    "encoder = LabelEncoder() #Firstly encoding the label column\n",
    "y = encoder.fit_transform(y)"
   ]
  },
  {
   "cell_type": "code",
   "execution_count": 32,
   "id": "c8f94603",
   "metadata": {
    "execution": {
     "iopub.execute_input": "2023-08-13T14:04:20.296757Z",
     "iopub.status.busy": "2023-08-13T14:04:20.295859Z",
     "iopub.status.idle": "2023-08-13T14:04:20.414696Z",
     "shell.execute_reply": "2023-08-13T14:04:20.413600Z"
    },
    "papermill": {
     "duration": 0.150755,
     "end_time": "2023-08-13T14:04:20.417527",
     "exception": false,
     "start_time": "2023-08-13T14:04:20.266772",
     "status": "completed"
    },
    "tags": []
   },
   "outputs": [],
   "source": [
    "from sklearn.model_selection import train_test_split\n",
    "\n",
    "X_train,X_test,y_train,y_test = train_test_split(X,y,test_size=0.2,random_state=42)"
   ]
  },
  {
   "cell_type": "markdown",
   "id": "7e7e19d9",
   "metadata": {
    "papermill": {
     "duration": 0.026676,
     "end_time": "2023-08-13T14:04:20.471247",
     "exception": false,
     "start_time": "2023-08-13T14:04:20.444571",
     "status": "completed"
    },
    "tags": []
   },
   "source": [
    "### 3.4 Feature Extraction, Encoding and Scaling\n",
    "Most of the columns are text in this dataset so we have to features from them as numbers. Also, there is a column in which we will apply MinMaxScaler."
   ]
  },
  {
   "cell_type": "code",
   "execution_count": 33,
   "id": "5b22fda8",
   "metadata": {
    "execution": {
     "iopub.execute_input": "2023-08-13T14:04:20.526630Z",
     "iopub.status.busy": "2023-08-13T14:04:20.526254Z",
     "iopub.status.idle": "2023-08-13T14:04:20.560993Z",
     "shell.execute_reply": "2023-08-13T14:04:20.559410Z"
    },
    "papermill": {
     "duration": 0.065716,
     "end_time": "2023-08-13T14:04:20.563842",
     "exception": false,
     "start_time": "2023-08-13T14:04:20.498126",
     "status": "completed"
    },
    "tags": []
   },
   "outputs": [],
   "source": [
    "from sklearn.feature_extraction.text import TfidfVectorizer\n",
    "from sklearn.preprocessing import MinMaxScaler , OneHotEncoder"
   ]
  },
  {
   "cell_type": "code",
   "execution_count": 34,
   "id": "551e7369",
   "metadata": {
    "execution": {
     "iopub.execute_input": "2023-08-13T14:04:20.622008Z",
     "iopub.status.busy": "2023-08-13T14:04:20.621062Z",
     "iopub.status.idle": "2023-08-13T14:04:20.629206Z",
     "shell.execute_reply": "2023-08-13T14:04:20.627555Z"
    },
    "papermill": {
     "duration": 0.040341,
     "end_time": "2023-08-13T14:04:20.631978",
     "exception": false,
     "start_time": "2023-08-13T14:04:20.591637",
     "status": "completed"
    },
    "tags": []
   },
   "outputs": [],
   "source": [
    "#This ColumnTransformer is Scaling 'audienceScore' and 'runtimeMinutes' columns using MinMaxScaler.\n",
    "#Converting 'reviewText' and categorical columns like 'movieid,' 'reviewerName,' 'director,' 'genre,' 'originalLanguage' into numerical representations using TfidfVectorizer.\n",
    "#Encodes 'isFrequentReviewer' column using OneHotEncoder.\n",
    "    \n",
    "preprocessor2 = ColumnTransformer(\n",
    "    transformers=[\n",
    "        ('numeric2', MinMaxScaler(), ['runtimeMinutes']),\n",
    "        ('tfidf_text',TfidfVectorizer(), 'reviewText'),\n",
    "        ('tfidf_movieid',TfidfVectorizer(), 'movieid'),\n",
    "        ('tfidf_reviewername',TfidfVectorizer(), 'reviewerName'),\n",
    "        ('tfidf_director',TfidfVectorizer(), 'director'),\n",
    "        ('tfidf_genre', TfidfVectorizer(), 'genre'),\n",
    "        ('tfidf_originalLanguage',TfidfVectorizer(), 'originalLanguage'),\n",
    "        ('onehot_isFrequentReviewer', OneHotEncoder(), ['isFrequentReviewer']),\n",
    "    ],\n",
    "    remainder='passthrough'  # Pass through any columns not transformed\n",
    ")"
   ]
  },
  {
   "cell_type": "code",
   "execution_count": 35,
   "id": "0d7cfdf3",
   "metadata": {
    "execution": {
     "iopub.execute_input": "2023-08-13T14:04:20.687732Z",
     "iopub.status.busy": "2023-08-13T14:04:20.687240Z",
     "iopub.status.idle": "2023-08-13T14:04:33.854592Z",
     "shell.execute_reply": "2023-08-13T14:04:33.853442Z"
    },
    "papermill": {
     "duration": 13.19886,
     "end_time": "2023-08-13T14:04:33.857538",
     "exception": false,
     "start_time": "2023-08-13T14:04:20.658678",
     "status": "completed"
    },
    "tags": []
   },
   "outputs": [],
   "source": [
    "#Fitting the `preprocessor2` on the `train` dataset and subsequently transforming the `train`, `test`, and `Test` datasets ensures uniformity in feature representation across all datasets.\n",
    "X_train = preprocessor2.fit_transform(X_train)\n",
    "\n",
    "X_test = preprocessor2.transform(X_test)\n",
    "Test = preprocessor2.transform(Test)"
   ]
  },
  {
   "cell_type": "code",
   "execution_count": 36,
   "id": "6dba6369",
   "metadata": {
    "execution": {
     "iopub.execute_input": "2023-08-13T14:04:33.914084Z",
     "iopub.status.busy": "2023-08-13T14:04:33.912862Z",
     "iopub.status.idle": "2023-08-13T14:04:33.920330Z",
     "shell.execute_reply": "2023-08-13T14:04:33.919357Z"
    },
    "papermill": {
     "duration": 0.037942,
     "end_time": "2023-08-13T14:04:33.922634",
     "exception": false,
     "start_time": "2023-08-13T14:04:33.884692",
     "status": "completed"
    },
    "tags": []
   },
   "outputs": [
    {
     "data": {
      "text/plain": [
       "(125048, 117771)"
      ]
     },
     "execution_count": 36,
     "metadata": {},
     "output_type": "execute_result"
    }
   ],
   "source": [
    "X_train.shape"
   ]
  },
  {
   "cell_type": "markdown",
   "id": "c7978cdb",
   "metadata": {
    "papermill": {
     "duration": 0.027384,
     "end_time": "2023-08-13T14:04:33.977594",
     "exception": false,
     "start_time": "2023-08-13T14:04:33.950210",
     "status": "completed"
    },
    "tags": []
   },
   "source": [
    "### 3.5 Feature Selection\n",
    "This data have a lot of features - 117,771. Which is a bit much, so I picked a more manageable 65,000 features with the help of SelectKBest with chi-squared (chi²) statistic. I figured out this number ('k') by trying different options and seeing which worked best when training the model."
   ]
  },
  {
   "cell_type": "code",
   "execution_count": 37,
   "id": "6b940e1f",
   "metadata": {
    "execution": {
     "iopub.execute_input": "2023-08-13T14:04:34.040345Z",
     "iopub.status.busy": "2023-08-13T14:04:34.039550Z",
     "iopub.status.idle": "2023-08-13T14:04:34.083571Z",
     "shell.execute_reply": "2023-08-13T14:04:34.082374Z"
    },
    "papermill": {
     "duration": 0.080777,
     "end_time": "2023-08-13T14:04:34.086533",
     "exception": false,
     "start_time": "2023-08-13T14:04:34.005756",
     "status": "completed"
    },
    "tags": []
   },
   "outputs": [],
   "source": [
    "from sklearn.feature_selection import SelectKBest\n",
    "from sklearn.feature_selection import chi2\n",
    "\n",
    "chi2_features = SelectKBest(chi2, k =65000)"
   ]
  },
  {
   "cell_type": "code",
   "execution_count": 38,
   "id": "fd1a6bb7",
   "metadata": {
    "execution": {
     "iopub.execute_input": "2023-08-13T14:04:34.145828Z",
     "iopub.status.busy": "2023-08-13T14:04:34.145065Z",
     "iopub.status.idle": "2023-08-13T14:04:34.541386Z",
     "shell.execute_reply": "2023-08-13T14:04:34.539928Z"
    },
    "papermill": {
     "duration": 0.429766,
     "end_time": "2023-08-13T14:04:34.544580",
     "exception": false,
     "start_time": "2023-08-13T14:04:34.114814",
     "status": "completed"
    },
    "tags": []
   },
   "outputs": [],
   "source": [
    "X_train = chi2_features.fit_transform(X_train, y_train)\n",
    "\n",
    "X_test = chi2_features.transform(X_test)\n",
    "Test = chi2_features.transform(Test)"
   ]
  },
  {
   "cell_type": "markdown",
   "id": "930d4944",
   "metadata": {
    "papermill": {
     "duration": 0.027906,
     "end_time": "2023-08-13T14:04:34.601464",
     "exception": false,
     "start_time": "2023-08-13T14:04:34.573558",
     "status": "completed"
    },
    "tags": []
   },
   "source": [
    "# **4. Select and Train Models**"
   ]
  },
  {
   "cell_type": "code",
   "execution_count": 39,
   "id": "eae255a8",
   "metadata": {
    "execution": {
     "iopub.execute_input": "2023-08-13T14:04:34.662681Z",
     "iopub.status.busy": "2023-08-13T14:04:34.661529Z",
     "iopub.status.idle": "2023-08-13T14:04:34.669247Z",
     "shell.execute_reply": "2023-08-13T14:04:34.667452Z"
    },
    "papermill": {
     "duration": 0.042431,
     "end_time": "2023-08-13T14:04:34.672997",
     "exception": false,
     "start_time": "2023-08-13T14:04:34.630566",
     "status": "completed"
    },
    "tags": []
   },
   "outputs": [],
   "source": [
    "from sklearn.metrics import accuracy_score,confusion_matrix,precision_score"
   ]
  },
  {
   "cell_type": "markdown",
   "id": "45c665e6",
   "metadata": {
    "papermill": {
     "duration": 0.034631,
     "end_time": "2023-08-13T14:04:34.743153",
     "exception": false,
     "start_time": "2023-08-13T14:04:34.708522",
     "status": "completed"
    },
    "tags": []
   },
   "source": [
    "### 4.1 Dummy Classifier\n",
    "A dummy classifier is like a basic guessing model. It helps to find out weather the more sophisticated  models are actually smart or just guessing. If other model can't do better than the guesser, something might be wrong with it or the data."
   ]
  },
  {
   "cell_type": "code",
   "execution_count": 40,
   "id": "c9a32819",
   "metadata": {
    "execution": {
     "iopub.execute_input": "2023-08-13T14:04:34.807213Z",
     "iopub.status.busy": "2023-08-13T14:04:34.805333Z",
     "iopub.status.idle": "2023-08-13T14:04:34.811961Z",
     "shell.execute_reply": "2023-08-13T14:04:34.810783Z"
    },
    "papermill": {
     "duration": 0.0384,
     "end_time": "2023-08-13T14:04:34.814401",
     "exception": false,
     "start_time": "2023-08-13T14:04:34.776001",
     "status": "completed"
    },
    "tags": []
   },
   "outputs": [],
   "source": [
    "# from sklearn.dummy import DummyClassifier\n",
    "\n",
    "# dummy = DummyClassifier(strategy = \"most_frequent\")\n",
    "# dummy.fit(X_train, y_train)\n",
    "# y_pred_dummy = dummy.predict(X_test)\n",
    "# print(accuracy_score(y_test,y_pred_dummy))\n",
    "# print(confusion_matrix(y_test,y_pred_dummy))\n",
    "# print(precision_score(y_test,y_pred_dummy))"
   ]
  },
  {
   "cell_type": "markdown",
   "id": "1bce394e",
   "metadata": {
    "papermill": {
     "duration": 0.026621,
     "end_time": "2023-08-13T14:04:34.868981",
     "exception": false,
     "start_time": "2023-08-13T14:04:34.842360",
     "status": "completed"
    },
    "tags": []
   },
   "source": [
    "**accuracy_score:**  0.6753990340018552\n",
    "\n",
    "**confusion_matrix:**\n",
    "\n",
    "[[0    10148]\n",
    "\n",
    " [0     21115]]\n",
    " \n",
    "**precision_score:** 0.6753990340018552"
   ]
  },
  {
   "cell_type": "markdown",
   "id": "e5522214",
   "metadata": {
    "papermill": {
     "duration": 0.027924,
     "end_time": "2023-08-13T14:04:34.924438",
     "exception": false,
     "start_time": "2023-08-13T14:04:34.896514",
     "status": "completed"
    },
    "tags": []
   },
   "source": [
    "### 4.2 Naive Bayes Classifier (BernoulliNB)\n",
    "BernoulliNB is a straightforward classifier that relies on conditional probabilities. I have used BernolliNB because it works well on text data and binary (0,1) data.\n",
    "\n",
    "`This was a good model with around 80% acurracy on the Test Data but not the best one.`"
   ]
  },
  {
   "cell_type": "code",
   "execution_count": 41,
   "id": "13aa72fa",
   "metadata": {
    "execution": {
     "iopub.execute_input": "2023-08-13T14:04:34.982071Z",
     "iopub.status.busy": "2023-08-13T14:04:34.981262Z",
     "iopub.status.idle": "2023-08-13T14:04:34.986127Z",
     "shell.execute_reply": "2023-08-13T14:04:34.985257Z"
    },
    "papermill": {
     "duration": 0.035678,
     "end_time": "2023-08-13T14:04:34.988284",
     "exception": false,
     "start_time": "2023-08-13T14:04:34.952606",
     "status": "completed"
    },
    "tags": []
   },
   "outputs": [],
   "source": [
    "# from sklearn.naive_bayes import BernoulliNB\n",
    "\n",
    "# bnb = BernoulliNB()\n",
    "# bnb.fit(X_train, y_train)\n",
    "# y_pred_bnb = bnb.predict(X_test)\n",
    "# print(accuracy_score(y_test,y_pred_bnb))\n",
    "# print(confusion_matrix(y_test,y_pred_bnb))\n",
    "# print(precision_score(y_test,y_pred_bnb))"
   ]
  },
  {
   "cell_type": "markdown",
   "id": "b2411d62",
   "metadata": {
    "papermill": {
     "duration": 0.02667,
     "end_time": "2023-08-13T14:04:35.043052",
     "exception": false,
     "start_time": "2023-08-13T14:04:35.016382",
     "status": "completed"
    },
    "tags": []
   },
   "source": [
    "**accuracy_score:** 0.8160125387838659\n",
    "\n",
    "**confusion_matrix:**\n",
    "\n",
    "[[7105  3043]\n",
    "\n",
    "[2709 18406]]\n",
    " \n",
    "**precision_score:** 0.858128584083174"
   ]
  },
  {
   "cell_type": "markdown",
   "id": "b4dd96a8",
   "metadata": {
    "papermill": {
     "duration": 0.027227,
     "end_time": "2023-08-13T14:04:35.096956",
     "exception": false,
     "start_time": "2023-08-13T14:04:35.069729",
     "status": "completed"
    },
    "tags": []
   },
   "source": [
    "### 4.3 DecisionTree Classifier\n",
    "A decision tree classifier is a type of machine learning model that makes decisions by following a tree-like structure. It asks questions about input features step by step, leading to a final prediction or classification at the end. It's like a flowchart for making decisions in data-driven tasks."
   ]
  },
  {
   "cell_type": "code",
   "execution_count": 42,
   "id": "db828193",
   "metadata": {
    "execution": {
     "iopub.execute_input": "2023-08-13T14:04:35.153247Z",
     "iopub.status.busy": "2023-08-13T14:04:35.152407Z",
     "iopub.status.idle": "2023-08-13T14:04:35.157338Z",
     "shell.execute_reply": "2023-08-13T14:04:35.156307Z"
    },
    "papermill": {
     "duration": 0.036335,
     "end_time": "2023-08-13T14:04:35.160003",
     "exception": false,
     "start_time": "2023-08-13T14:04:35.123668",
     "status": "completed"
    },
    "tags": []
   },
   "outputs": [],
   "source": [
    "# from sklearn.tree import DecisionTreeClassifier\n",
    "\n",
    "# dtc = DecisionTreeClassifier(max_depth=500,min_samples_split=50,min_samples_leaf=2,\n",
    "#                         random_state=42)\n",
    "# dtc.fit(X_train, y_train)\n",
    "# y_pred_dtc = dtc.predict(X_test)\n",
    "# print(accuracy_score(y_test,y_pred_dtc))\n",
    "# print(confusion_matrix(y_test,y_pred_dtc))\n",
    "# print(precision_score(y_test,y_pred_dtc))"
   ]
  },
  {
   "cell_type": "code",
   "execution_count": 43,
   "id": "7cc9efd8",
   "metadata": {
    "execution": {
     "iopub.execute_input": "2023-08-13T14:04:35.217134Z",
     "iopub.status.busy": "2023-08-13T14:04:35.216725Z",
     "iopub.status.idle": "2023-08-13T14:04:35.222374Z",
     "shell.execute_reply": "2023-08-13T14:04:35.220984Z"
    },
    "papermill": {
     "duration": 0.037182,
     "end_time": "2023-08-13T14:04:35.224807",
     "exception": false,
     "start_time": "2023-08-13T14:04:35.187625",
     "status": "completed"
    },
    "tags": []
   },
   "outputs": [],
   "source": [
    "# y_pred = dtc.predict(X_train)\n",
    "# print(accuracy_score(y_train,y_pred))\n",
    "# print(confusion_matrix(y_train,y_pred))\n",
    "# print(precision_score(y_train,y_pred))"
   ]
  },
  {
   "cell_type": "markdown",
   "id": "fba25f5a",
   "metadata": {
    "papermill": {
     "duration": 0.026704,
     "end_time": "2023-08-13T14:04:35.279079",
     "exception": false,
     "start_time": "2023-08-13T14:04:35.252375",
     "status": "completed"
    },
    "tags": []
   },
   "source": [
    "**accuracy_score:** 0.6902408598023222\n",
    "\n",
    "**confusion_matrix:**\n",
    "\n",
    "[[ 5353  4795]\n",
    "\n",
    " [ 4889 16226]]\n",
    " \n",
    "**precision_score:** 0.7718947718947718\n",
    "\n",
    "\n",
    "> This is the accuracy score of X_train. We can see that the model is working well on this and we can conclude that this classifier is overfitting.\n",
    "\n",
    "\n",
    "**accuracy_score:** 0.8743362548781268\n",
    "\n",
    "**confusion_matrix:**\n",
    "[[34911  6533]\n",
    "\n",
    " [ 9181 74423]]\n",
    " \n",
    "**precision_score:** 0.9193018429764317"
   ]
  },
  {
   "cell_type": "markdown",
   "id": "e2d6b8c3",
   "metadata": {
    "papermill": {
     "duration": 0.027682,
     "end_time": "2023-08-13T14:04:35.335634",
     "exception": false,
     "start_time": "2023-08-13T14:04:35.307952",
     "status": "completed"
    },
    "tags": []
   },
   "source": [
    "### 4.4 Hyperparameter Tunning\n",
    "**LogisticRegression Classifier**\n",
    "\n",
    "Logistic regression is a statistical technique used for binary classification. Despite its name, it's used for classification, not regression. It calculates the probability of an input belonging to one of two classes and then makes a decision based on a threshold. It's like drawing a straight line that separates two classes in a way that best fits the data. It's often used when you have two choices, like yes/no or pass/fail or positive/negative."
   ]
  },
  {
   "cell_type": "code",
   "execution_count": 44,
   "id": "46e2d299",
   "metadata": {
    "execution": {
     "iopub.execute_input": "2023-08-13T14:04:35.392785Z",
     "iopub.status.busy": "2023-08-13T14:04:35.392315Z",
     "iopub.status.idle": "2023-08-13T14:10:13.748813Z",
     "shell.execute_reply": "2023-08-13T14:10:13.747479Z"
    },
    "papermill": {
     "duration": 338.455789,
     "end_time": "2023-08-13T14:10:13.818352",
     "exception": false,
     "start_time": "2023-08-13T14:04:35.362563",
     "status": "completed"
    },
    "tags": []
   },
   "outputs": [
    {
     "name": "stderr",
     "output_type": "stream",
     "text": [
      "/opt/conda/lib/python3.10/site-packages/sklearn/linear_model/_logistic.py:458: ConvergenceWarning: lbfgs failed to converge (status=1):\n",
      "STOP: TOTAL NO. of ITERATIONS REACHED LIMIT.\n",
      "\n",
      "Increase the number of iterations (max_iter) or scale the data as shown in:\n",
      "    https://scikit-learn.org/stable/modules/preprocessing.html\n",
      "Please also refer to the documentation for alternative solver options:\n",
      "    https://scikit-learn.org/stable/modules/linear_model.html#logistic-regression\n",
      "  n_iter_i = _check_optimize_result(\n",
      "/opt/conda/lib/python3.10/site-packages/sklearn/linear_model/_logistic.py:458: ConvergenceWarning: lbfgs failed to converge (status=1):\n",
      "STOP: TOTAL NO. of ITERATIONS REACHED LIMIT.\n",
      "\n",
      "Increase the number of iterations (max_iter) or scale the data as shown in:\n",
      "    https://scikit-learn.org/stable/modules/preprocessing.html\n",
      "Please also refer to the documentation for alternative solver options:\n",
      "    https://scikit-learn.org/stable/modules/linear_model.html#logistic-regression\n",
      "  n_iter_i = _check_optimize_result(\n",
      "/opt/conda/lib/python3.10/site-packages/sklearn/linear_model/_logistic.py:458: ConvergenceWarning: lbfgs failed to converge (status=1):\n",
      "STOP: TOTAL NO. of ITERATIONS REACHED LIMIT.\n",
      "\n",
      "Increase the number of iterations (max_iter) or scale the data as shown in:\n",
      "    https://scikit-learn.org/stable/modules/preprocessing.html\n",
      "Please also refer to the documentation for alternative solver options:\n",
      "    https://scikit-learn.org/stable/modules/linear_model.html#logistic-regression\n",
      "  n_iter_i = _check_optimize_result(\n",
      "/opt/conda/lib/python3.10/site-packages/sklearn/linear_model/_logistic.py:458: ConvergenceWarning: lbfgs failed to converge (status=1):\n",
      "STOP: TOTAL NO. of ITERATIONS REACHED LIMIT.\n",
      "\n",
      "Increase the number of iterations (max_iter) or scale the data as shown in:\n",
      "    https://scikit-learn.org/stable/modules/preprocessing.html\n",
      "Please also refer to the documentation for alternative solver options:\n",
      "    https://scikit-learn.org/stable/modules/linear_model.html#logistic-regression\n",
      "  n_iter_i = _check_optimize_result(\n",
      "/opt/conda/lib/python3.10/site-packages/sklearn/linear_model/_logistic.py:458: ConvergenceWarning: lbfgs failed to converge (status=1):\n",
      "STOP: TOTAL NO. of ITERATIONS REACHED LIMIT.\n",
      "\n",
      "Increase the number of iterations (max_iter) or scale the data as shown in:\n",
      "    https://scikit-learn.org/stable/modules/preprocessing.html\n",
      "Please also refer to the documentation for alternative solver options:\n",
      "    https://scikit-learn.org/stable/modules/linear_model.html#logistic-regression\n",
      "  n_iter_i = _check_optimize_result(\n"
     ]
    },
    {
     "name": "stdout",
     "output_type": "stream",
     "text": [
      "Best C parameter: [2.7825594]\n",
      "Test Accuracy: 0.8312062182132233\n"
     ]
    },
    {
     "name": "stderr",
     "output_type": "stream",
     "text": [
      "/opt/conda/lib/python3.10/site-packages/sklearn/linear_model/_logistic.py:458: ConvergenceWarning: lbfgs failed to converge (status=1):\n",
      "STOP: TOTAL NO. of ITERATIONS REACHED LIMIT.\n",
      "\n",
      "Increase the number of iterations (max_iter) or scale the data as shown in:\n",
      "    https://scikit-learn.org/stable/modules/preprocessing.html\n",
      "Please also refer to the documentation for alternative solver options:\n",
      "    https://scikit-learn.org/stable/modules/linear_model.html#logistic-regression\n",
      "  n_iter_i = _check_optimize_result(\n"
     ]
    }
   ],
   "source": [
    "# this code will performs logistic regression with cross-validation using the LogisticRegressionCV class \n",
    "# and it will determines the best regularization parameter C.\n",
    "\n",
    "from sklearn.linear_model import LogisticRegressionCV\n",
    "\n",
    "lrcv = LogisticRegressionCV(Cs=10, cv=5, random_state=42)\n",
    "\n",
    "lrcv.fit(X_train, y_train)\n",
    "\n",
    "print(\"Best C parameter:\", lrcv.C_)\n",
    "accuracy = lrcv.score(X_test, y_test)\n",
    "print(\"Test Accuracy:\", accuracy)"
   ]
  },
  {
   "cell_type": "markdown",
   "id": "f809e295",
   "metadata": {
    "papermill": {
     "duration": 0.027204,
     "end_time": "2023-08-13T14:10:13.873276",
     "exception": false,
     "start_time": "2023-08-13T14:10:13.846072",
     "status": "completed"
    },
    "tags": []
   },
   "source": [
    "**Best C parameter:** [2.7825594]\n",
    "\n",
    "**Test Accuracy:** 0.8312062182132233"
   ]
  },
  {
   "cell_type": "code",
   "execution_count": 45,
   "id": "76b41ba6",
   "metadata": {
    "execution": {
     "iopub.execute_input": "2023-08-13T14:10:13.931267Z",
     "iopub.status.busy": "2023-08-13T14:10:13.930745Z",
     "iopub.status.idle": "2023-08-13T14:11:24.967110Z",
     "shell.execute_reply": "2023-08-13T14:11:24.965081Z"
    },
    "papermill": {
     "duration": 71.094842,
     "end_time": "2023-08-13T14:11:24.995981",
     "exception": false,
     "start_time": "2023-08-13T14:10:13.901139",
     "status": "completed"
    },
    "tags": []
   },
   "outputs": [
    {
     "name": "stderr",
     "output_type": "stream",
     "text": [
      "/opt/conda/lib/python3.10/site-packages/sklearn/linear_model/_sag.py:350: ConvergenceWarning: The max_iter was reached which means the coef_ did not converge\n",
      "  warnings.warn(\n",
      "/opt/conda/lib/python3.10/site-packages/sklearn/linear_model/_sag.py:350: ConvergenceWarning: The max_iter was reached which means the coef_ did not converge\n",
      "  warnings.warn(\n",
      "/opt/conda/lib/python3.10/site-packages/sklearn/linear_model/_sag.py:350: ConvergenceWarning: The max_iter was reached which means the coef_ did not converge\n",
      "  warnings.warn(\n",
      "/opt/conda/lib/python3.10/site-packages/sklearn/linear_model/_sag.py:350: ConvergenceWarning: The max_iter was reached which means the coef_ did not converge\n",
      "  warnings.warn(\n",
      "/opt/conda/lib/python3.10/site-packages/sklearn/linear_model/_sag.py:350: ConvergenceWarning: The max_iter was reached which means the coef_ did not converge\n",
      "  warnings.warn(\n",
      "/opt/conda/lib/python3.10/site-packages/sklearn/linear_model/_sag.py:350: ConvergenceWarning: The max_iter was reached which means the coef_ did not converge\n",
      "  warnings.warn(\n",
      "/opt/conda/lib/python3.10/site-packages/sklearn/linear_model/_sag.py:350: ConvergenceWarning: The max_iter was reached which means the coef_ did not converge\n",
      "  warnings.warn(\n",
      "/opt/conda/lib/python3.10/site-packages/sklearn/linear_model/_sag.py:350: ConvergenceWarning: The max_iter was reached which means the coef_ did not converge\n",
      "  warnings.warn(\n",
      "/opt/conda/lib/python3.10/site-packages/sklearn/linear_model/_sag.py:350: ConvergenceWarning: The max_iter was reached which means the coef_ did not converge\n",
      "  warnings.warn(\n",
      "/opt/conda/lib/python3.10/site-packages/sklearn/linear_model/_sag.py:350: ConvergenceWarning: The max_iter was reached which means the coef_ did not converge\n",
      "  warnings.warn(\n",
      "/opt/conda/lib/python3.10/site-packages/sklearn/linear_model/_sag.py:350: ConvergenceWarning: The max_iter was reached which means the coef_ did not converge\n",
      "  warnings.warn(\n",
      "/opt/conda/lib/python3.10/site-packages/sklearn/linear_model/_sag.py:350: ConvergenceWarning: The max_iter was reached which means the coef_ did not converge\n",
      "  warnings.warn(\n",
      "/opt/conda/lib/python3.10/site-packages/sklearn/linear_model/_sag.py:350: ConvergenceWarning: The max_iter was reached which means the coef_ did not converge\n",
      "  warnings.warn(\n",
      "/opt/conda/lib/python3.10/site-packages/sklearn/linear_model/_sag.py:350: ConvergenceWarning: The max_iter was reached which means the coef_ did not converge\n",
      "  warnings.warn(\n",
      "/opt/conda/lib/python3.10/site-packages/sklearn/linear_model/_sag.py:350: ConvergenceWarning: The max_iter was reached which means the coef_ did not converge\n",
      "  warnings.warn(\n",
      "/opt/conda/lib/python3.10/site-packages/sklearn/linear_model/_sag.py:350: ConvergenceWarning: The max_iter was reached which means the coef_ did not converge\n",
      "  warnings.warn(\n",
      "/opt/conda/lib/python3.10/site-packages/sklearn/linear_model/_sag.py:350: ConvergenceWarning: The max_iter was reached which means the coef_ did not converge\n",
      "  warnings.warn(\n",
      "/opt/conda/lib/python3.10/site-packages/sklearn/linear_model/_sag.py:350: ConvergenceWarning: The max_iter was reached which means the coef_ did not converge\n",
      "  warnings.warn(\n",
      "/opt/conda/lib/python3.10/site-packages/sklearn/linear_model/_sag.py:350: ConvergenceWarning: The max_iter was reached which means the coef_ did not converge\n",
      "  warnings.warn(\n",
      "/opt/conda/lib/python3.10/site-packages/sklearn/linear_model/_sag.py:350: ConvergenceWarning: The max_iter was reached which means the coef_ did not converge\n",
      "  warnings.warn(\n"
     ]
    },
    {
     "name": "stdout",
     "output_type": "stream",
     "text": [
      "Best Hyperparameters: {'max_iter': 200, 'tol': 0.001}\n",
      "Test Accuracy: 0.8324217125675719\n"
     ]
    }
   ],
   "source": [
    "#In this code,we are doing hyperparameter tuning for the LogisticRegression classifier with cross validiation. \n",
    "# Given this extensive dataset, I've chosen to utilize the 'saga' solver, which is well-suited for handling larger datasets. \n",
    "#Additionally, I'm applying the 'l2' penalty and using the previously determined optimal value of C.\n",
    "\n",
    "from sklearn.model_selection import GridSearchCV\n",
    "from sklearn.linear_model import LogisticRegression\n",
    "\n",
    "grid = {\n",
    "    'max_iter': [12,100,200], # Maximum number of iterations\n",
    "    'tol': [0.1, 0.01, 0.001] # Tolerance for stopping criteria\n",
    "}\n",
    "\n",
    "lrc_grid = LogisticRegression(solver = 'saga', penalty = 'l2', C= 2.7825594)\n",
    "grid_search = GridSearchCV(lrc_grid, grid, cv=10, n_jobs=-1)\n",
    "grid_search.fit(X_train, y_train)\n",
    "\n",
    "print(\"Best Hyperparameters:\", grid_search.best_params_)\n",
    "best_model = grid_search.best_estimator_\n",
    "accuracy = best_model.score(X_test, y_test)\n",
    "print(\"Test Accuracy:\", accuracy)"
   ]
  },
  {
   "cell_type": "code",
   "execution_count": 46,
   "id": "a8f009a9",
   "metadata": {
    "execution": {
     "iopub.execute_input": "2023-08-13T14:11:25.059293Z",
     "iopub.status.busy": "2023-08-13T14:11:25.058800Z",
     "iopub.status.idle": "2023-08-13T14:11:26.846824Z",
     "shell.execute_reply": "2023-08-13T14:11:26.845818Z"
    },
    "papermill": {
     "duration": 1.823438,
     "end_time": "2023-08-13T14:11:26.849809",
     "exception": false,
     "start_time": "2023-08-13T14:11:25.026371",
     "status": "completed"
    },
    "tags": []
   },
   "outputs": [
    {
     "name": "stdout",
     "output_type": "stream",
     "text": [
      "0.8328055528899978\n",
      "[[ 7006  3142]\n",
      " [ 2085 19030]]\n",
      "0.8582897348006495\n"
     ]
    },
    {
     "name": "stderr",
     "output_type": "stream",
     "text": [
      "/opt/conda/lib/python3.10/site-packages/sklearn/linear_model/_sag.py:350: ConvergenceWarning: The max_iter was reached which means the coef_ did not converge\n",
      "  warnings.warn(\n"
     ]
    }
   ],
   "source": [
    "# I am now training the model using the identified best hyperparameters.\n",
    "\n",
    "from sklearn.linear_model import LogisticRegression\n",
    "\n",
    "lrc = LogisticRegression(solver='saga', penalty='l2', C= 2.7825594, max_iter= 12, tol= 0.001)\n",
    "lrc.fit(X_train, y_train)\n",
    "y_pred_lrc = lrc.predict(X_test)\n",
    "print(accuracy_score(y_test,y_pred_lrc))\n",
    "print(confusion_matrix(y_test,y_pred_lrc))\n",
    "print(precision_score(y_test,y_pred_lrc))"
   ]
  },
  {
   "cell_type": "markdown",
   "id": "e18f39e6",
   "metadata": {
    "papermill": {
     "duration": 0.030382,
     "end_time": "2023-08-13T14:11:26.910358",
     "exception": false,
     "start_time": "2023-08-13T14:11:26.879976",
     "status": "completed"
    },
    "tags": []
   },
   "source": [
    "> **Note:** In this case the best parameters was not giving the best accuracy score. That's why I have used the parameters by which I got the best accuracy value on `train` dataset.\n",
    "\n",
    "By training this logistic regression model I am getting the best score on it from all the models that I have trained as far. The NaiveBayes classifier was giving a good score but Decision Tree was overfitting.\n",
    "\n",
    "In conclusion, the logistic regression model emerged as the most suitable choice for this predictive task based on its consistent high accuracy and its ability to generalize to new data."
   ]
  },
  {
   "cell_type": "markdown",
   "id": "a3b8a17a",
   "metadata": {
    "papermill": {
     "duration": 0.030099,
     "end_time": "2023-08-13T14:11:26.971256",
     "exception": false,
     "start_time": "2023-08-13T14:11:26.941157",
     "status": "completed"
    },
    "tags": []
   },
   "source": [
    "### 4.5 Prediction\n",
    "Now, we'll use the trained model to predict sentiments for the Test data."
   ]
  },
  {
   "cell_type": "code",
   "execution_count": 47,
   "id": "7723aa06",
   "metadata": {
    "execution": {
     "iopub.execute_input": "2023-08-13T14:11:27.034950Z",
     "iopub.status.busy": "2023-08-13T14:11:27.034194Z",
     "iopub.status.idle": "2023-08-13T14:11:27.121800Z",
     "shell.execute_reply": "2023-08-13T14:11:27.120938Z"
    },
    "papermill": {
     "duration": 0.122783,
     "end_time": "2023-08-13T14:11:27.124670",
     "exception": false,
     "start_time": "2023-08-13T14:11:27.001887",
     "status": "completed"
    },
    "tags": []
   },
   "outputs": [],
   "source": [
    "y_pred = lrc.predict(Test)\n",
    "submission = pd.DataFrame(columns = ['id', 'sentiment'])\n",
    "submission['id'] = [i for i in range(len(y_pred))]\n",
    "submission['sentiment'] = y_pred"
   ]
  },
  {
   "cell_type": "code",
   "execution_count": 48,
   "id": "02bac92e",
   "metadata": {
    "execution": {
     "iopub.execute_input": "2023-08-13T14:11:27.188830Z",
     "iopub.status.busy": "2023-08-13T14:11:27.188040Z",
     "iopub.status.idle": "2023-08-13T14:11:27.214367Z",
     "shell.execute_reply": "2023-08-13T14:11:27.213230Z"
    },
    "papermill": {
     "duration": 0.062256,
     "end_time": "2023-08-13T14:11:27.217683",
     "exception": false,
     "start_time": "2023-08-13T14:11:27.155427",
     "status": "completed"
    },
    "tags": []
   },
   "outputs": [],
   "source": [
    "# Converting the labels from 0,1 to POSITIVE and NEGATIVE\n",
    "\n",
    "def convert(i):\n",
    "    if  i == 1:\n",
    "        i = 'POSITIVE'\n",
    "    else:\n",
    "        i = 'NEGATIVE'\n",
    "    return i\n",
    "\n",
    "submission[\"sentiment\"] = submission['sentiment'].apply(convert)"
   ]
  },
  {
   "cell_type": "code",
   "execution_count": 49,
   "id": "b3bea929",
   "metadata": {
    "execution": {
     "iopub.execute_input": "2023-08-13T14:11:27.281372Z",
     "iopub.status.busy": "2023-08-13T14:11:27.280900Z",
     "iopub.status.idle": "2023-08-13T14:11:27.287714Z",
     "shell.execute_reply": "2023-08-13T14:11:27.286949Z"
    },
    "papermill": {
     "duration": 0.040908,
     "end_time": "2023-08-13T14:11:27.289893",
     "exception": false,
     "start_time": "2023-08-13T14:11:27.248985",
     "status": "completed"
    },
    "tags": []
   },
   "outputs": [
    {
     "data": {
      "text/plain": [
       "(55315, 2)"
      ]
     },
     "execution_count": 49,
     "metadata": {},
     "output_type": "execute_result"
    }
   ],
   "source": [
    "submission.shape"
   ]
  },
  {
   "cell_type": "code",
   "execution_count": 50,
   "id": "6e8df0aa",
   "metadata": {
    "execution": {
     "iopub.execute_input": "2023-08-13T14:11:27.355326Z",
     "iopub.status.busy": "2023-08-13T14:11:27.354618Z",
     "iopub.status.idle": "2023-08-13T14:11:27.366751Z",
     "shell.execute_reply": "2023-08-13T14:11:27.365944Z"
    },
    "papermill": {
     "duration": 0.048139,
     "end_time": "2023-08-13T14:11:27.369277",
     "exception": false,
     "start_time": "2023-08-13T14:11:27.321138",
     "status": "completed"
    },
    "tags": []
   },
   "outputs": [
    {
     "data": {
      "text/html": [
       "<div>\n",
       "<style scoped>\n",
       "    .dataframe tbody tr th:only-of-type {\n",
       "        vertical-align: middle;\n",
       "    }\n",
       "\n",
       "    .dataframe tbody tr th {\n",
       "        vertical-align: top;\n",
       "    }\n",
       "\n",
       "    .dataframe thead th {\n",
       "        text-align: right;\n",
       "    }\n",
       "</style>\n",
       "<table border=\"1\" class=\"dataframe\">\n",
       "  <thead>\n",
       "    <tr style=\"text-align: right;\">\n",
       "      <th></th>\n",
       "      <th>id</th>\n",
       "      <th>sentiment</th>\n",
       "    </tr>\n",
       "  </thead>\n",
       "  <tbody>\n",
       "    <tr>\n",
       "      <th>0</th>\n",
       "      <td>0</td>\n",
       "      <td>POSITIVE</td>\n",
       "    </tr>\n",
       "    <tr>\n",
       "      <th>1</th>\n",
       "      <td>1</td>\n",
       "      <td>POSITIVE</td>\n",
       "    </tr>\n",
       "    <tr>\n",
       "      <th>2</th>\n",
       "      <td>2</td>\n",
       "      <td>POSITIVE</td>\n",
       "    </tr>\n",
       "    <tr>\n",
       "      <th>3</th>\n",
       "      <td>3</td>\n",
       "      <td>POSITIVE</td>\n",
       "    </tr>\n",
       "    <tr>\n",
       "      <th>4</th>\n",
       "      <td>4</td>\n",
       "      <td>POSITIVE</td>\n",
       "    </tr>\n",
       "    <tr>\n",
       "      <th>...</th>\n",
       "      <td>...</td>\n",
       "      <td>...</td>\n",
       "    </tr>\n",
       "    <tr>\n",
       "      <th>55310</th>\n",
       "      <td>55310</td>\n",
       "      <td>POSITIVE</td>\n",
       "    </tr>\n",
       "    <tr>\n",
       "      <th>55311</th>\n",
       "      <td>55311</td>\n",
       "      <td>POSITIVE</td>\n",
       "    </tr>\n",
       "    <tr>\n",
       "      <th>55312</th>\n",
       "      <td>55312</td>\n",
       "      <td>NEGATIVE</td>\n",
       "    </tr>\n",
       "    <tr>\n",
       "      <th>55313</th>\n",
       "      <td>55313</td>\n",
       "      <td>POSITIVE</td>\n",
       "    </tr>\n",
       "    <tr>\n",
       "      <th>55314</th>\n",
       "      <td>55314</td>\n",
       "      <td>NEGATIVE</td>\n",
       "    </tr>\n",
       "  </tbody>\n",
       "</table>\n",
       "<p>55315 rows × 2 columns</p>\n",
       "</div>"
      ],
      "text/plain": [
       "          id sentiment\n",
       "0          0  POSITIVE\n",
       "1          1  POSITIVE\n",
       "2          2  POSITIVE\n",
       "3          3  POSITIVE\n",
       "4          4  POSITIVE\n",
       "...      ...       ...\n",
       "55310  55310  POSITIVE\n",
       "55311  55311  POSITIVE\n",
       "55312  55312  NEGATIVE\n",
       "55313  55313  POSITIVE\n",
       "55314  55314  NEGATIVE\n",
       "\n",
       "[55315 rows x 2 columns]"
      ]
     },
     "execution_count": 50,
     "metadata": {},
     "output_type": "execute_result"
    }
   ],
   "source": [
    "submission"
   ]
  },
  {
   "cell_type": "code",
   "execution_count": 51,
   "id": "389a61a1",
   "metadata": {
    "execution": {
     "iopub.execute_input": "2023-08-13T14:11:27.436529Z",
     "iopub.status.busy": "2023-08-13T14:11:27.435808Z",
     "iopub.status.idle": "2023-08-13T14:11:27.452292Z",
     "shell.execute_reply": "2023-08-13T14:11:27.450689Z"
    },
    "papermill": {
     "duration": 0.054753,
     "end_time": "2023-08-13T14:11:27.455112",
     "exception": false,
     "start_time": "2023-08-13T14:11:27.400359",
     "status": "completed"
    },
    "tags": []
   },
   "outputs": [
    {
     "data": {
      "text/plain": [
       "POSITIVE    39529\n",
       "NEGATIVE    15786\n",
       "Name: sentiment, dtype: int64"
      ]
     },
     "execution_count": 51,
     "metadata": {},
     "output_type": "execute_result"
    }
   ],
   "source": [
    "submission['sentiment'].value_counts()"
   ]
  },
  {
   "cell_type": "code",
   "execution_count": 52,
   "id": "e7460b2b",
   "metadata": {
    "execution": {
     "iopub.execute_input": "2023-08-13T14:11:27.519437Z",
     "iopub.status.busy": "2023-08-13T14:11:27.519016Z",
     "iopub.status.idle": "2023-08-13T14:11:27.687202Z",
     "shell.execute_reply": "2023-08-13T14:11:27.685826Z"
    },
    "papermill": {
     "duration": 0.204054,
     "end_time": "2023-08-13T14:11:27.690343",
     "exception": false,
     "start_time": "2023-08-13T14:11:27.486289",
     "status": "completed"
    },
    "tags": []
   },
   "outputs": [],
   "source": [
    "# making a .csv file for submission\n",
    "submission.to_csv('submission.csv', index = False)"
   ]
  }
 ],
 "metadata": {
  "kernelspec": {
   "display_name": "Python 3",
   "language": "python",
   "name": "python3"
  },
  "language_info": {
   "codemirror_mode": {
    "name": "ipython",
    "version": 3
   },
   "file_extension": ".py",
   "mimetype": "text/x-python",
   "name": "python",
   "nbconvert_exporter": "python",
   "pygments_lexer": "ipython3",
   "version": "3.10.10"
  },
  "papermill": {
   "default_parameters": {},
   "duration": 471.515689,
   "end_time": "2023-08-13T14:11:30.346002",
   "environment_variables": {},
   "exception": null,
   "input_path": "__notebook__.ipynb",
   "output_path": "__notebook__.ipynb",
   "parameters": {},
   "start_time": "2023-08-13T14:03:38.830313",
   "version": "2.4.0"
  }
 },
 "nbformat": 4,
 "nbformat_minor": 5
}
